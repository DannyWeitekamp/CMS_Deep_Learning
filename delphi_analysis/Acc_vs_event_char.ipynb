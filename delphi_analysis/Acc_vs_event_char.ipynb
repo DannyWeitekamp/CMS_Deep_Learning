{
 "cells": [
  {
   "cell_type": "code",
   "execution_count": 1,
   "metadata": {
    "collapsed": false
   },
   "outputs": [
    {
     "name": "stderr",
     "output_type": "stream",
     "text": [
      "Using Theano backend.\n",
      "Using gpu device 0: GeForce GTX TITAN X (CNMeM is disabled, cuDNN not available)"
     ]
    },
    {
     "name": "stdout",
     "output_type": "stream",
     "text": [
      "Couldn't import dot_parser, loading of dot files will not be possible.\n"
     ]
    },
    {
     "name": "stderr",
     "output_type": "stream",
     "text": [
      "\n"
     ]
    }
   ],
   "source": [
    "%matplotlib inline\n",
    "if __package__ is None:\n",
    "    import sys, os\n",
    "    sys.path.append(os.path.realpath(\"/data/shared/Software/\"))\n",
    "from CMS_SURF_2016.utils.archiving import get_trials_by_name, get_all_data, DataProcedure, KerasTrial\n",
    "from CMS_SURF_2016.layers.slice import Slice\n",
    "from CMS_SURF_2016.layers.lorentz import Lorentz\n",
    "from CMS_SURF_2016.utils.analysistools import *\n",
    "from CMS_SURF_2016.utils.plot import *\n",
    "from CMS_SURF_2016.utils.metrics import accVsEventChar\n",
    "from keras.utils.visualize_util import plot\n",
    "from IPython.display import Image, display\n",
    "import numpy as np\n",
    "archive_dir = \"/data/shared/Delphes/old_keras_archive/\"\n"
   ]
  },
  {
   "cell_type": "code",
   "execution_count": 2,
   "metadata": {
    "collapsed": false,
    "scrolled": true
   },
   "outputs": [
    {
     "name": "stdout",
     "output_type": "stream",
     "text": [
      "[<CMS_SURF_2016.utils.archiving.KerasTrial object at 0x7fc3687b8cd0>, <CMS_SURF_2016.utils.archiving.KerasTrial object at 0x7fc3687b8d90>, <CMS_SURF_2016.utils.archiving.KerasTrial object at 0x7fc3687b8e50>, <CMS_SURF_2016.utils.archiving.KerasTrial object at 0x7fc3687b8f10>, <CMS_SURF_2016.utils.archiving.KerasTrial object at 0x7fc3687b8fd0>, <CMS_SURF_2016.utils.archiving.KerasTrial object at 0x7fc3687d20d0>, <CMS_SURF_2016.utils.archiving.KerasTrial object at 0x7fc3687d2190>, <CMS_SURF_2016.utils.archiving.KerasTrial object at 0x7fc3687d2250>, <CMS_SURF_2016.utils.archiving.KerasTrial object at 0x7fc3687d2310>, <CMS_SURF_2016.utils.archiving.KerasTrial object at 0x7fc3687d23d0>, <CMS_SURF_2016.utils.archiving.KerasTrial object at 0x7fc3687d2490>, <CMS_SURF_2016.utils.archiving.KerasTrial object at 0x7fc3687d2590>, <CMS_SURF_2016.utils.archiving.KerasTrial object at 0x7fc3687d2610>, <CMS_SURF_2016.utils.archiving.KerasTrial object at 0x7fc3687d26d0>, <CMS_SURF_2016.utils.archiving.KerasTrial object at 0x7fc3687d2790>, <CMS_SURF_2016.utils.archiving.KerasTrial object at 0x7fc3687d2850>, <CMS_SURF_2016.utils.archiving.KerasTrial object at 0x7fc3687d2910>, <CMS_SURF_2016.utils.archiving.KerasTrial object at 0x7fc3687d29d0>, <CMS_SURF_2016.utils.archiving.KerasTrial object at 0x7fc3687d2a90>, <CMS_SURF_2016.utils.archiving.KerasTrial object at 0x7fc3687d2b50>, <CMS_SURF_2016.utils.archiving.KerasTrial object at 0x7fc3687d2c10>, <CMS_SURF_2016.utils.archiving.KerasTrial object at 0x7fc3687d2cd0>, <CMS_SURF_2016.utils.archiving.KerasTrial object at 0x7fc3687d2d90>, <CMS_SURF_2016.utils.archiving.KerasTrial object at 0x7fc3687d2e50>, <CMS_SURF_2016.utils.archiving.KerasTrial object at 0x7fc3687d2f10>, <CMS_SURF_2016.utils.archiving.KerasTrial object at 0x7fc3687e5050>, <CMS_SURF_2016.utils.archiving.KerasTrial object at 0x7fc3687e50d0>, <CMS_SURF_2016.utils.archiving.KerasTrial object at 0x7fc3687e5190>, <CMS_SURF_2016.utils.archiving.KerasTrial object at 0x7fc3687e5250>, <CMS_SURF_2016.utils.archiving.KerasTrial object at 0x7fc3687e5310>, <CMS_SURF_2016.utils.archiving.KerasTrial object at 0x7fc3687e53d0>, <CMS_SURF_2016.utils.archiving.KerasTrial object at 0x7fc3687e5490>, <CMS_SURF_2016.utils.archiving.KerasTrial object at 0x7fc3687e5550>, <CMS_SURF_2016.utils.archiving.KerasTrial object at 0x7fc3687e5610>, <CMS_SURF_2016.utils.archiving.KerasTrial object at 0x7fc3687e56d0>, <CMS_SURF_2016.utils.archiving.KerasTrial object at 0x7fc3687e5790>, <CMS_SURF_2016.utils.archiving.KerasTrial object at 0x7fc3687e5850>, <CMS_SURF_2016.utils.archiving.KerasTrial object at 0x7fc3687e5910>, <CMS_SURF_2016.utils.archiving.KerasTrial object at 0x7fc3687e59d0>, <CMS_SURF_2016.utils.archiving.KerasTrial object at 0x7fc3687e5a90>, <CMS_SURF_2016.utils.archiving.KerasTrial object at 0x7fc3687e5b50>, <CMS_SURF_2016.utils.archiving.KerasTrial object at 0x7fc3687e5c10>, <CMS_SURF_2016.utils.archiving.KerasTrial object at 0x7fc3687e5cd0>, <CMS_SURF_2016.utils.archiving.KerasTrial object at 0x7fc3687e5d90>, <CMS_SURF_2016.utils.archiving.KerasTrial object at 0x7fc3687e5e50>, <CMS_SURF_2016.utils.archiving.KerasTrial object at 0x7fc3687e5f10>, <CMS_SURF_2016.utils.archiving.KerasTrial object at 0x7fc3687e5fd0>, <CMS_SURF_2016.utils.archiving.KerasTrial object at 0x7fc36877a0d0>, <CMS_SURF_2016.utils.archiving.KerasTrial object at 0x7fc36877a190>, <CMS_SURF_2016.utils.archiving.KerasTrial object at 0x7fc36877a250>, <CMS_SURF_2016.utils.archiving.KerasTrial object at 0x7fc36877a310>, <CMS_SURF_2016.utils.archiving.KerasTrial object at 0x7fc36877a3d0>, <CMS_SURF_2016.utils.archiving.KerasTrial object at 0x7fc36877a490>, <CMS_SURF_2016.utils.archiving.KerasTrial object at 0x7fc36877a550>, <CMS_SURF_2016.utils.archiving.KerasTrial object at 0x7fc36877a610>, <CMS_SURF_2016.utils.archiving.KerasTrial object at 0x7fc36877a6d0>, <CMS_SURF_2016.utils.archiving.KerasTrial object at 0x7fc36877a790>, <CMS_SURF_2016.utils.archiving.KerasTrial object at 0x7fc36877a850>, <CMS_SURF_2016.utils.archiving.KerasTrial object at 0x7fc36877a910>, <CMS_SURF_2016.utils.archiving.KerasTrial object at 0x7fc36877a9d0>, <CMS_SURF_2016.utils.archiving.KerasTrial object at 0x7fc36877aa90>, <CMS_SURF_2016.utils.archiving.KerasTrial object at 0x7fc36877ab50>, <CMS_SURF_2016.utils.archiving.KerasTrial object at 0x7fc36877ac10>, <CMS_SURF_2016.utils.archiving.KerasTrial object at 0x7fc36877acd0>, <CMS_SURF_2016.utils.archiving.KerasTrial object at 0x7fc36877ad90>, <CMS_SURF_2016.utils.archiving.KerasTrial object at 0x7fc36877ae50>, <CMS_SURF_2016.utils.archiving.KerasTrial object at 0x7fc36877af10>, <CMS_SURF_2016.utils.archiving.KerasTrial object at 0x7fc36877afd0>, <CMS_SURF_2016.utils.archiving.KerasTrial object at 0x7fc36878e0d0>, <CMS_SURF_2016.utils.archiving.KerasTrial object at 0x7fc36878e190>, <CMS_SURF_2016.utils.archiving.KerasTrial object at 0x7fc36878e250>, <CMS_SURF_2016.utils.archiving.KerasTrial object at 0x7fc36878e350>, <CMS_SURF_2016.utils.archiving.KerasTrial object at 0x7fc36878e3d0>, <CMS_SURF_2016.utils.archiving.KerasTrial object at 0x7fc36878e4d0>, <CMS_SURF_2016.utils.archiving.KerasTrial object at 0x7fc36878e550>, <CMS_SURF_2016.utils.archiving.KerasTrial object at 0x7fc36878e610>, <CMS_SURF_2016.utils.archiving.KerasTrial object at 0x7fc36878e6d0>, <CMS_SURF_2016.utils.archiving.KerasTrial object at 0x7fc36878e790>, <CMS_SURF_2016.utils.archiving.KerasTrial object at 0x7fc36878e850>, <CMS_SURF_2016.utils.archiving.KerasTrial object at 0x7fc36878e910>, <CMS_SURF_2016.utils.archiving.KerasTrial object at 0x7fc36878e9d0>, <CMS_SURF_2016.utils.archiving.KerasTrial object at 0x7fc36878ea90>, <CMS_SURF_2016.utils.archiving.KerasTrial object at 0x7fc36878eb50>, <CMS_SURF_2016.utils.archiving.KerasTrial object at 0x7fc36878ec10>, <CMS_SURF_2016.utils.archiving.KerasTrial object at 0x7fc36878ecd0>, <CMS_SURF_2016.utils.archiving.KerasTrial object at 0x7fc36878ed90>, <CMS_SURF_2016.utils.archiving.KerasTrial object at 0x7fc36878ee50>, <CMS_SURF_2016.utils.archiving.KerasTrial object at 0x7fc36878ef10>, <CMS_SURF_2016.utils.archiving.KerasTrial object at 0x7fc36878efd0>, <CMS_SURF_2016.utils.archiving.KerasTrial object at 0x7fc3687a10d0>, <CMS_SURF_2016.utils.archiving.KerasTrial object at 0x7fc3687a1190>, <CMS_SURF_2016.utils.archiving.KerasTrial object at 0x7fc3687a1250>, <CMS_SURF_2016.utils.archiving.KerasTrial object at 0x7fc3687a1310>, <CMS_SURF_2016.utils.archiving.KerasTrial object at 0x7fc3687a13d0>, <CMS_SURF_2016.utils.archiving.KerasTrial object at 0x7fc3687a1490>, <CMS_SURF_2016.utils.archiving.KerasTrial object at 0x7fc3687a1610>, <CMS_SURF_2016.utils.archiving.KerasTrial object at 0x7fc3687a16d0>]\n"
     ]
    }
   ],
   "source": [
    "def sortOnMetric(trials,sortMetric='test_acc'):\n",
    "    def getKey(trial):\n",
    "        return trial.get_from_record(sortMetric)\n",
    "    trials.sort(key=getKey, reverse=True)\n",
    "    return trials\n",
    "\n",
    "trials = get_trials_by_name(\".\", archive_dir)\n",
    "print(trials)\n",
    "trials = sortOnMetric(trials)"
   ]
  },
  {
   "cell_type": "code",
   "execution_count": null,
   "metadata": {
    "collapsed": false,
    "scrolled": true
   },
   "outputs": [],
   "source": []
  },
  {
   "cell_type": "code",
   "execution_count": 3,
   "metadata": {
    "collapsed": false,
    "scrolled": false
   },
   "outputs": [
    {
     "name": "stdout",
     "output_type": "stream",
     "text": [
      "--------------------------------------------------\n",
      "TRIAL SUMMARY (48acbcf67d395c1ad08261c259a166e2dcde2460)\n",
      "    Record_Info:\n",
      "        name = lorentz, elapse_time = 0:16:56, fit_cycles = 1\n",
      "        test_acc = 0.8334, val_acc = 0.9518, test_loss = 0.4010\n",
      "        num_train = 177632, num_validation = 38064, num_test = 38064\n",
      "        activation = relu, depth = 2, dropout = 0.0, lables = [u'ttbar', u'wjet'], sphereCoords = True, width = 100\n",
      "--------------------------------------------------\n",
      "<type 'list'>\n"
     ]
    }
   ],
   "source": [
    "trials = get_trials_by_name(\"lorentz\", archive_dir)\n",
    "\n",
    "trial = KerasTrial.find_by_hashcode(archive_dir, \"48acbcf67d395c1ad08261c259a166e2dcde2460\")\n",
    "trial.summary()\n",
    "#trial.hashcode = \"48acbcf67d395c1ad08261c259a166e2dcde2460\"\n",
    "\n",
    "print(type(trial.val_procedure))"
   ]
  },
  {
   "cell_type": "code",
   "execution_count": 4,
   "metadata": {
    "collapsed": false
   },
   "outputs": [
    {
     "name": "stdout",
     "output_type": "stream",
     "text": [
      "Generating DataProcedure in range(88816,107848):\n",
      "   From 2 labels in range(88816,98816) for 2x10000 = 20000 Samples\n",
      "   From 2 labels in range(98816,107848) for 2x9032 = 18064 Samples\n"
     ]
    }
   ],
   "source": [
    "model = trial.compile(loadweights=True,custom_objects={\"Lorentz\": Lorentz, \"Slice\" : Slice})\n",
    "\n",
    "p = DataProcedure.from_json(archive_dir,trial.val_procedure[0])\n",
    "#print(p)\n",
    "#print(trial.nb_val_samples)\n",
    "gen = p.getData()\n",
    "#predictions = model.predict_generator(, trial.nb_val_samples)"
   ]
  },
  {
   "cell_type": "code",
   "execution_count": 5,
   "metadata": {
    "collapsed": false
   },
   "outputs": [
    {
     "name": "stdout",
     "output_type": "stream",
     "text": [
      "DataProcedure results '19fda7d0d7a3396f067af45bd0cea16c3d927fc0' read from archive\n",
      "DataProcedure results '75498727e6823e3f8b73509e1bc90c72574af42f' read from archive\n",
      "('Average:', array([ 0.18301594,  0.95001394]))\n",
      "('SEM:', array([ 0.00498322,  0.00107539]))\n"
     ]
    },
    {
     "name": "stderr",
     "output_type": "stream",
     "text": [
      "/usr/local/lib/python2.7/dist-packages/ipykernel/__main__.py:14: VisibleDeprecationWarning: using a non-integer number instead of an integer will result in an error in the future\n"
     ]
    }
   ],
   "source": [
    "num_sample = trial.nb_val_samples\n",
    "num_read = 0\n",
    "correct = 0\n",
    "batch_metrics = None\n",
    "num_batches = None\n",
    "global_batch_size = None\n",
    "\n",
    "for i,(X,Y) in enumerate(gen):\n",
    "    batch_size = Y[0].shape[0] if isinstance(Y, list) else Y.shape[0]\n",
    "    m = model.test_on_batch(X,Y)\n",
    "    if(batch_metrics == None):\n",
    "        global_batch_size = batch_size\n",
    "        num_batches =  np.ceil(num_sample/float(global_batch_size))\n",
    "        batch_metrics = [None] * num_batches\n",
    "    batch_metrics[i] = m\n",
    "    num_read += batch_size\n",
    "    if(num_read >= num_sample):\n",
    "        break\n",
    "\n",
    "batch_metrics = np.array(batch_metrics)\n",
    "avg = np.mean(batch_metrics, axis=0, dtype='float64')\n",
    "sem = np.std(batch_metrics, axis=0, dtype='float64')/np.sqrt(num_batches)\n",
    "print(\"Average:\", avg)\n",
    "print(\"SEM:\", sem)\n"
   ]
  },
  {
   "cell_type": "code",
   "execution_count": 6,
   "metadata": {
    "collapsed": false
   },
   "outputs": [
    {
     "name": "stdout",
     "output_type": "stream",
     "text": [
      "--------------------------------------------------\n",
      "TRIAL SUMMARY (48acbcf67d395c1ad08261c259a166e2dcde2460)\n",
      "    Record_Info:\n",
      "        name = lorentz, elapse_time = 0:16:56, fit_cycles = 1\n",
      "        test_acc = 0.8334, val_acc = 0.9518, test_loss = 0.4010\n",
      "        num_train = 177632, num_validation = 38064, num_test = 38064\n",
      "        activation = relu, depth = 2, dropout = 0.0, lables = [u'ttbar', u'wjet'], sphereCoords = True, width = 100\n",
      "--------------------------------------------------\n"
     ]
    }
   ],
   "source": [
    "trial.summary()"
   ]
  },
  {
   "cell_type": "code",
   "execution_count": 10,
   "metadata": {
    "collapsed": false,
    "scrolled": false
   },
   "outputs": [
    {
     "name": "stdout",
     "output_type": "stream",
     "text": [
      "--------------------------------------------------\n",
      "TRIAL SUMMARY (48acbcf67d395c1ad08261c259a166e2dcde2460)\n",
      "    Record_Info:\n",
      "        name = lorentz, elapse_time = 0:16:56, fit_cycles = 1\n",
      "        test_acc = 0.8334, val_acc = 0.9518, test_loss = 0.4010\n",
      "        num_train = 177632, num_validation = 38064, num_test = 38064\n",
      "        activation = relu, depth = 2, dropout = 0.0, lables = [u'ttbar', u'wjet'], sphereCoords = True, width = 100\n",
      "--------------------------------------------------\n",
      "Generating DataProcedure in range(88816,107848):\n",
      "   From 2 labels in range(88816,98816) for 2x10000 = 20000 Samples\n",
      "   From 2 labels in range(98816,107848) for 2x9032 = 18064 Samples\n",
      "['Electron', 'MuonTight', 'Photon', 'MissingET', 'EFlowPhoton', 'EFlowNeutralHadron', 'EFlowTrack']\n",
      "['EFlowPhoton', 'EFlowNeutralHadron', 'EFlowTrack']\n",
      "DataProcedure results '19fda7d0d7a3396f067af45bd0cea16c3d927fc0' read from archive\n",
      "DataProcedure results '75498727e6823e3f8b73509e1bc90c72574af42f' read from archive\n",
      "(38064, 38064, 38064, [650.4735215306282, 1051.1523808836937, 494.85315877199173, 836.00519293546677, 447.5279797911644, 888.76403903961182, 547.71959006786346, 553.55428075790405, 533.72542595863342, 468.10942694544792])\n"
     ]
    },
    {
     "data": {
      "image/png": "[encoded data removed]",
      "text/plain": [
       "<matplotlib.figure.Figure at 0x7fc361ac4810>"
      ]
     },
     "metadata": {},
     "output_type": "display_data"
    },
    {
     "name": "stdout",
     "output_type": "stream",
     "text": [
      "--------------------------------------------------\n",
      "TRIAL SUMMARY (195b7fab0e8199a3185d093756bcd35b2bc63081)\n",
      "    Record_Info:\n",
      "        name = lorentz, elapse_time = 0:27:01, fit_cycles = 1\n",
      "        test_acc = 0.7429, val_acc = 0.7450, test_loss = 0.5292\n",
      "        num_train = 177632, num_validation = 38064, num_test = 38064\n",
      "        activation = relu, depth = 2, dropout = 0.0, lables = [u'qcd', u'ttbar'], sphereCoords = False, width = 10\n",
      "--------------------------------------------------\n",
      "Generating DataProcedure in range(88816,107848):\n",
      "   From 2 labels in range(88816,98816) for 2x10000 = 20000 Samples\n",
      "   From 2 labels in range(98816,107848) for 2x9032 = 18064 Samples\n",
      "['Electron', 'MuonTight', 'Photon', 'MissingET', 'EFlowPhoton', 'EFlowNeutralHadron', 'EFlowTrack']\n",
      "['EFlowPhoton', 'EFlowNeutralHadron', 'EFlowTrack']\n",
      "DataProcedure results 'e4b6448cd4c3b13faea5ea0e6e158f4fabc15e40' read from archive\n",
      "DataProcedure results '3122dc98b5576cf48557b3426b27addddf37d61d' read from archive\n",
      "(38064, 38064, 38064, [838.71682178974152, 678.14667284488678, 705.05391722917557, 854.15742510557175, 797.4336017370224, 781.31276369094849, 576.5309140086174, 592.41210126876831, 790.830686211586, 761.69500076770782])\n"
     ]
    },
    {
     "data": {
      "image/png": "[encoded data removed]",
      "text/plain": [
       "<matplotlib.figure.Figure at 0x7fc34cab7e50>"
      ]
     },
     "metadata": {},
     "output_type": "display_data"
    }
   ],
   "source": [
    "trial1 = KerasTrial.find_by_hashcode(archive_dir, \"48acbcf67d395c1ad08261c259a166e2dcde2460\")\n",
    "trial2 = KerasTrial.find_by_hashcode(archive_dir, \"195b7fab0e8199a3185d093756bcd35b2bc63081\")\n",
    "\n",
    "def plotTrial(trial):\n",
    "    trial.summary()\n",
    "    model = trial.compile(loadweights=True,custom_objects={\"Lorentz\": Lorentz, \"Slice\" : Slice})\n",
    "    p = DataProcedure.from_json(archive_dir,trial.val_procedure[0])\n",
    "    gen = p.getData()            \n",
    "    d = accVsEventChar(model, gen, np.sum, \"PT_ET\", [\"EFlowPhoton\",\"EFlowNeutralHadron\",\"EFlowTrack\"],\n",
    "                       #This is the  possible_observables ordering of the old parsing format. \n",
    "                       possible_observables =['E/c', 'Px', 'Py', 'Pz', 'Charge', 'PT_ET'],\n",
    "                       num_samples=trial.nb_val_samples, equalBins=False)        \n",
    "    plotBins(d,title='Accuracy vs Sum of PF Candidate PT', xlabel=\"PT GeV\", ylabel='Accuracy', color=(0.553,0.188,0.38))  \n",
    "\n",
    "plotTrial(trial1)\n",
    "plotTrial(trial2)\n",
    "        \n",
    "    "
   ]
  },
  {
   "cell_type": "code",
   "execution_count": null,
   "metadata": {
    "collapsed": false
   },
   "outputs": [],
   "source": []
  },
  {
   "cell_type": "code",
   "execution_count": 8,
   "metadata": {
    "collapsed": false
   },
   "outputs": [
    {
     "ename": "SyntaxError",
     "evalue": "invalid syntax (<ipython-input-8-50770436ab1e>, line 1)",
     "output_type": "error",
     "traceback": [
      "\u001b[1;36m  File \u001b[1;32m\"<ipython-input-8-50770436ab1e>\"\u001b[1;36m, line \u001b[1;32m1\u001b[0m\n\u001b[1;33m    [ 0.009051    0.00619716]\u001b[0m\n\u001b[1;37m                           ^\u001b[0m\n\u001b[1;31mSyntaxError\u001b[0m\u001b[1;31m:\u001b[0m invalid syntax\n"
     ]
    }
   ],
   "source": [
    "[ 0.009051    0.00619716]\n",
    "[ 0.00876452  0.0061347 ]\n"
   ]
  },
  {
   "cell_type": "code",
   "execution_count": null,
   "metadata": {
    "collapsed": true
   },
   "outputs": [],
   "source": []
  }
 ],
 "metadata": {
  "kernelspec": {
   "display_name": "Python 2",
   "language": "python",
   "name": "python2"
  },
  "language_info": {
   "codemirror_mode": {
    "name": "ipython",
    "version": 2
   },
   "file_extension": ".py",
   "mimetype": "text/x-python",
   "name": "python",
   "nbconvert_exporter": "python",
   "pygments_lexer": "ipython2",
   "version": "2.7.9"
  }
 },
 "nbformat": 4,
 "nbformat_minor": 0
}
