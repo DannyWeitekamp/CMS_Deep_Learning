{
 "cells": [
  {
   "cell_type": "markdown",
   "metadata": {},
   "source": [
    "# Warning! Only Run the following code if you want to clean all of the preprocessed data from an archive. Preprocessed data can always be regenerated, but it will take time."
   ]
  },
  {
   "cell_type": "code",
   "execution_count": 33,
   "metadata": {
    "collapsed": false
   },
   "outputs": [
    {
     "name": "stdout",
     "output_type": "stream",
     "text": [
      "5276\n"
     ]
    }
   ],
   "source": [
    "#import sys, os\n",
    "#sys.path.append(\"/data/shared/Delphes/Software/\")\n",
    "archive_dir = \"/data/shared/Delphes/keras_archive_2_19/\"\n",
    "from CMS_Deep_Learning.storage.archiving import *\n",
    "datas = get_all_data(archive_dir)\n",
    "print(len(datas))\n",
    "for data in datas:\n",
    "    data.remove_from_archive()\n"
   ]
  },
  {
   "cell_type": "markdown",
   "metadata": {},
   "source": [
    "## Code to remove a particular trial and its DPs"
   ]
  },
  {
   "cell_type": "code",
   "execution_count": 27,
   "metadata": {
    "collapsed": false
   },
   "outputs": [
    {
     "ename": "AttributeError",
     "evalue": "'NoneType' object has no attribute 'summary'",
     "output_type": "error",
     "traceback": [
      "\u001b[0;31m---------------------------------------------------------------------------\u001b[0m",
      "\u001b[0;31mAttributeError\u001b[0m                            Traceback (most recent call last)",
      "\u001b[0;32m<ipython-input-27-4e94cc30cfd4>\u001b[0m in \u001b[0;36m<module>\u001b[0;34m()\u001b[0m\n\u001b[1;32m     11\u001b[0m     \u001b[0;32mreturn\u001b[0m \u001b[0mproc\u001b[0m\u001b[0;34m\u001b[0m\u001b[0m\n\u001b[1;32m     12\u001b[0m \u001b[0mtrial\u001b[0m \u001b[0;34m=\u001b[0m \u001b[0mKerasTrial\u001b[0m\u001b[0;34m.\u001b[0m\u001b[0mfind_by_hashcode\u001b[0m\u001b[0;34m(\u001b[0m\u001b[0marchive_dir\u001b[0m\u001b[0;34m,\u001b[0m \u001b[0;34m\"d93e69176caef48cd3f187e137fb03c305b5f156\"\u001b[0m\u001b[0;34m)\u001b[0m\u001b[0;34m\u001b[0m\u001b[0m\n\u001b[0;32m---> 13\u001b[0;31m \u001b[0mtrial\u001b[0m\u001b[0;34m.\u001b[0m\u001b[0msummary\u001b[0m\u001b[0;34m(\u001b[0m\u001b[0;34m)\u001b[0m\u001b[0;34m\u001b[0m\u001b[0m\n\u001b[0m\u001b[1;32m     14\u001b[0m \u001b[0;32mprint\u001b[0m\u001b[0;34m(\u001b[0m\u001b[0mget_trial_dps\u001b[0m\u001b[0;34m(\u001b[0m\u001b[0mtrial\u001b[0m\u001b[0;34m)\u001b[0m\u001b[0;34m)\u001b[0m\u001b[0;34m\u001b[0m\u001b[0m\n\u001b[1;32m     15\u001b[0m \u001b[0mtrain\u001b[0m \u001b[0;34m=\u001b[0m \u001b[0mget_trial_dps\u001b[0m\u001b[0;34m(\u001b[0m\u001b[0mtrial\u001b[0m\u001b[0;34m,\u001b[0m \u001b[0mdata_type\u001b[0m\u001b[0;34m=\u001b[0m\u001b[0;34m\"train\"\u001b[0m\u001b[0;34m)\u001b[0m\u001b[0;34m\u001b[0m\u001b[0m\n",
      "\u001b[0;31mAttributeError\u001b[0m: 'NoneType' object has no attribute 'summary'"
     ]
    }
   ],
   "source": [
    "from CMS_Deep_Learning.storage.archiving import *\n",
    "archive_dir = \"/data/shared/Delphes/keras_archive_danny/\"\n",
    "def get_trial_dps(trial, data_type=\"train\"):\n",
    "    from CMS_Deep_Learning.storage.archiving import DataProcedure\n",
    "    if (data_type == \"val\"):\n",
    "        proc = [DataProcedure.from_json(trial.archive_dir, t) for t in trial.val_procedure]\n",
    "        # num_samples = trial.nb_val_samples\n",
    "    elif (data_type == \"train\"):\n",
    "        proc = [DataProcedure.from_json(trial.archive_dir, t) for t in trial.train_procedure]\n",
    "        # num_samples = trial.samples_per_epoch\n",
    "    return proc\n",
    "trial = KerasTrial.find_by_hashcode(archive_dir, \"d93e69176caef48cd3f187e137fb03c305b5f156\")\n",
    "trial.summary()\n",
    "print(get_trial_dps(trial))\n",
    "train = get_trial_dps(trial, data_type=\"train\")\n",
    "val = get_trial_dps(trial, data_type=\"train\")\n",
    "datas = train + val\n",
    "for data in datas:\n",
    "    data.remove_from_archive()\n",
    "trial.remove_from_archive()\n"
   ]
  },
  {
   "cell_type": "code",
   "execution_count": 21,
   "metadata": {
    "collapsed": true
   },
   "outputs": [],
   "source": []
  },
  {
   "cell_type": "code",
   "execution_count": null,
   "metadata": {
    "collapsed": true
   },
   "outputs": [],
   "source": []
  }
 ],
 "metadata": {
  "kernelspec": {
   "display_name": "Python 2",
   "language": "python",
   "name": "python2"
  },
  "language_info": {
   "codemirror_mode": {
    "name": "ipython",
    "version": 2
   },
   "file_extension": ".py",
   "mimetype": "text/x-python",
   "name": "python",
   "nbconvert_exporter": "python",
   "pygments_lexer": "ipython2",
   "version": "2.7.12"
  }
 },
 "nbformat": 4,
 "nbformat_minor": 0
}
