{
 "cells": [
  {
   "cell_type": "markdown",
   "metadata": {},
   "source": [
    "### Set up your path and CUDA devices so that you can use the CMS_Deep_Learning library you have cloned in your home directory, and use a particular GPU."
   ]
  },
  {
   "cell_type": "code",
   "execution_count": 1,
   "metadata": {},
   "outputs": [],
   "source": [
    "%matplotlib inline\n",
    "if __package__ is None:\n",
    "    import sys, os\n",
    "    sys.path.append(os.path.realpath(\"/nfshome/dweitekamp/CMS_Deep_Learning/\"))\n",
    "os.environ[\"CUDA_VISIBLE_DEVICES\"] = '5'"
   ]
  },
  {
   "cell_type": "markdown",
   "metadata": {},
   "source": [
    "### Don't worry about this... This is simply grabs the trained models I want from an archive. "
   ]
  },
  {
   "cell_type": "code",
   "execution_count": 2,
   "metadata": {
    "scrolled": true
   },
   "outputs": [
    {
     "name": "stderr",
     "output_type": "stream",
     "text": [
      "Using Theano backend.\n"
     ]
    },
    {
     "name": "stdout",
     "output_type": "stream",
     "text": [
      "Couldn't import dot_parser, loading of dot files will not be possible.\n"
     ]
    },
    {
     "name": "stderr",
     "output_type": "stream",
     "text": [
      "Using cuDNN version 5105 on context None\n",
      "Mapped name None to device cuda: GeForce GTX 1080 (0000:0C:00.0)\n"
     ]
    },
    {
     "name": "stdout",
     "output_type": "stream",
     "text": [
      "--------------------------------------------------\n",
      "TRIAL SUMMARY (826915652d9626412cb588f291dc9b310d783508)\n",
      "    Record_Info:\n",
      "        name = [\"GRU\"], elapse_time = 10:40:20, last_epoch = 29, start_time = \"09-19-2017 00:34:52 PST-PDT\"\n",
      "        val_acc = 0.9451\n",
      "        num_train = 300000, num_validation = 37500\n",
      "        activation = \"tanh\", depth = 1, labels = [\"qcd\", \"ttbar\", \"wjets\"], n_train_files = 40, patience = 8, recurrent_width = 50, sort_ascending = false, sort_on = \"MaxLepDeltaR\"\n",
      "--------------------------------------------------\n",
      "--------------------------------------------------\n",
      "TRIAL SUMMARY (c43898b546950fd4c6433d722287921f1d8cb51d)\n",
      "    Record_Info:\n",
      "        name = [\"LSTM\"], elapse_time = 34:25:24, last_epoch = 76, start_time = \"07-09-2017 08:17:12 PST-PDT\"\n",
      "        val_acc = 0.9430\n",
      "        num_train = 300000, num_validation = 37500\n",
      "        activation = \"tanh\", depth = 1, dropout = 0.0, labels = [\"qcd\", \"ttbar\", \"wjets\"], lstm_dropout = 0.0, n_train_files = 40, patience = 8, sort_ascending = false, sort_on = \"MaxLepDeltaR\"\n",
      "--------------------------------------------------\n"
     ]
    }
   ],
   "source": [
    "from CMS_Deep_Learning.storage.archiving import *\n",
    "from CMS_Deep_Learning.postprocessing.colors import colors_contrasting1\n",
    "from CMS_Deep_Learning.postprocessing.analysistools import sortOnMetric,findWithMetrics\n",
    "from CMS_Deep_Learning.layers.standardize import Standardize\n",
    "\n",
    "import numpy as nP\n",
    "os.environ[\"DELPHES_DIR\"] = \"/bigdata/shared/Delphes\"\n",
    "\n",
    "\n",
    "########Grab GRU Trial Wrapper###########\n",
    "from CMS_Deep_Learning.storage.archiving import *\n",
    "archive_dir = \"/bigdata/shared/Delphes/keras_archive_9_18/\"\n",
    "trials = get_trials_by_name(archive_dir,\".\",assert_complete=True)\n",
    "trials = sorted(trials, key=lambda x:x.get_from_record('val_acc'),reverse=True)\n",
    "trials = findWithMetrics(trials, {\"sort_ascending\": False, \"sort_on\": \"MaxLepDeltaR\"})\n",
    "#for t in trials:\n",
    "#    print(t.summary())\n",
    "best_GRU = trials[0]\n",
    "model_GRU,weights_GRU = best_GRU.model,best_GRU.get_path()+\"/weights.h5\"\n",
    "print(best_GRU.summary())\n",
    "\n",
    "\n",
    "\n",
    "########Grab LSTM Trial Wrapper###########\n",
    "archive_dir = \"/bigdata/shared/Delphes/keras_archive_7_9/\"\n",
    "trials = get_trials_by_name(archive_dir,\"LSTM\",assert_complete=True)\n",
    "trials = sorted(trials, key=lambda x:x.get_from_record('val_acc'),reverse=True)\n",
    "trials = findWithMetrics(trials, { \"sort_ascending\": False, \"sort_on\": \"MaxLepDeltaR\"})\n",
    "best_LSTM = trials[1]\n",
    "model_LSTM,weights_LSTM = best_LSTM.model,best_LSTM.get_path()+\"/weights.h5\"\n",
    "print(best_LSTM.summary())\n",
    "\n",
    "    "
   ]
  },
  {
   "cell_type": "markdown",
   "metadata": {},
   "source": [
    "### Get the Predictions and Targets however you like. This is a simple way that will work with any keras model as long as you have the path to your model.json and weights.h5, and a directory path for the dataset."
   ]
  },
  {
   "cell_type": "code",
   "execution_count": 3,
   "metadata": {},
   "outputs": [
    {
     "name": "stdout",
     "output_type": "stream",
     "text": [
      "((52500, 3), (52500, 3), (37500, 3), (37500, 3))\n"
     ]
    }
   ],
   "source": [
    "from CMS_Deep_Learning.io import simple_grab\n",
    "val_dir = '/bigdata/shared/Delphes/np_datasets_new/3_way/MaxLepDeltaR_des/val'\n",
    "GRU_targets,GRU_predictions  = simple_grab([\"Y\",\"predictions\"],\n",
    "                                   data=val_dir,\n",
    "                                   input_keys='Particles',\n",
    "                                   label_keys='Labels',\n",
    "                                    model=model_GRU,\n",
    "                                    weights=weights_GRU,\n",
    "                                    custom_objects={'Standardize':Standardize}\n",
    "                                  )\n",
    "\n",
    "val_dir = '/bigdata/shared/Delphes/np_datasets_old1/3_way/MaxLepDeltaR_des/val'\n",
    "LSTM_targets,LSTM_predictions = simple_grab([\"Y\",\"predictions\"],\n",
    "                                   data=val_dir,\n",
    "                                   input_keys='Particles',\n",
    "                                   label_keys='Labels',\n",
    "                                    model=model_LSTM,\n",
    "                                    weights=weights_LSTM,\n",
    "                                    custom_objects={'Standardize':Standardize}        \n",
    "                                  )\n",
    "print(GRU_predictions.shape, GRU_targets.shape,LSTM_predictions.shape, LSTM_targets.shape)"
   ]
  },
  {
   "cell_type": "markdown",
   "metadata": {},
   "source": [
    "### Grab the ROC data: (fpr,tpr, thresholds (optional), AUC)"
   ]
  },
  {
   "cell_type": "code",
   "execution_count": 4,
   "metadata": {
    "scrolled": true
   },
   "outputs": [],
   "source": [
    "#plot_roc_curve(trial=best, true_class_index=1, title=\"\",custom_objects={'Standardize':Standardize})\n",
    "from CMS_Deep_Learning.postprocessing.metrics import get_roc_data\n",
    "ROC_data_GRU =get_roc_data(\n",
    "                predictions=GRU_predictions,\n",
    "                Y=GRU_targets,\n",
    "               true_class_index=1,\n",
    "               \n",
    "                )\n",
    "\n",
    "\n",
    "ROC_data_LSTM =get_roc_data(\n",
    "                predictions=LSTM_predictions,\n",
    "                Y=LSTM_targets, \n",
    "                true_class_index=1,\n",
    "                )\n"
   ]
  },
  {
   "cell_type": "markdown",
   "metadata": {},
   "source": [
    "### Plot the ROC Curves"
   ]
  },
  {
   "cell_type": "code",
   "execution_count": 5,
   "metadata": {},
   "outputs": [
    {
     "data": {
      "image/png": "[encoded data removed]",
      "text/plain": [
       "<matplotlib.figure.Figure at 0x7fd61bdfa390>"
      ]
     },
     "metadata": {},
     "output_type": "display_data"
    }
   ],
   "source": [
    "from CMS_Deep_Learning.postprocessing.plot import plot_roc_curve\n",
    "import h5py\n",
    "f = h5py.File(\"/nfshome/thong/LCDJets/EventImage_ROC.h5\")\n",
    "ROC_data_DenseNet = f[\"FPR\"],f[\"TPR\"], None,.976\n",
    "\n",
    "args = [{\"name\" :'DenseNet', \"ROC_data\": ROC_data_DenseNet},\n",
    "       {\"name\" :'GRU', \"ROC_data\": ROC_data_GRU},\n",
    "       {\"name\" :'LSTM', \"ROC_data\": ROC_data_LSTM}]\n",
    "\n",
    "\n",
    "#rcParams['figure.figsize'] = 7, 7\n",
    "plt,_ = plot_roc_curve(args,\n",
    "               title=\"\",\n",
    "               xlabel=\"Background Contamination (FPR)\",\n",
    "               ylabel=\"Signal Efficiency (TPR)\",\n",
    "               show=False)\n"
   ]
  },
  {
   "cell_type": "markdown",
   "metadata": {},
   "source": [
    "### Get a table of the efficiencies and contamination rates (separated by class) for a set of fixed points."
   ]
  },
  {
   "cell_type": "code",
   "execution_count": 20,
   "metadata": {
    "scrolled": true
   },
   "outputs": [
    {
     "name": "stdout",
     "output_type": "stream",
     "text": [
      "GRU: TPRS and FPRS in percents(%)\n",
      "          tpr       fpr  fpr:W+jets    fpr:QCD     thresh\n",
      "0   12.120000  0.002857    0.000000   0.005714  99.993767\n",
      "1   44.434286  0.028571    0.028571   0.028571  99.957077\n",
      "2   56.062857  0.040000    0.034286   0.045714  99.897659\n",
      "3   67.102857  0.077143    0.057143   0.097143  99.717041\n",
      "4   75.400000  0.142857    0.137143   0.148571  99.275681\n",
      "5   77.651429  0.197143    0.194286   0.200000  99.001335\n",
      "6   79.154286  0.231429    0.211429   0.251429  98.746384\n",
      "7   85.988571  0.434286    0.371429   0.497143  95.785545\n",
      "8   91.165714  0.788571    0.577143   1.000000  87.176743\n",
      "9   96.474286  2.042857    1.582857   2.502857  44.250427\n",
      "10  97.914286  4.162857    3.331429   4.994286  17.002283\n",
      "11  98.737143  6.500000    5.502857   7.497143   8.114186\n",
      "12  99.165714  8.897143    7.788571  10.005714   4.282937\n",
      "\n",
      "\n",
      "\n",
      "LSTM: TPRS and FPRS in percents(%)\n",
      "          tpr       fpr  fpr:W+jets    fpr:QCD     thresh\n",
      "0   12.120000  0.002857    0.000000   0.005714  99.993767\n",
      "1   44.434286  0.028571    0.028571   0.028571  99.957077\n",
      "2   56.062857  0.040000    0.034286   0.045714  99.897659\n",
      "3   67.102857  0.077143    0.057143   0.097143  99.717041\n",
      "4   75.400000  0.142857    0.137143   0.148571  99.275681\n",
      "5   77.651429  0.197143    0.194286   0.200000  99.001335\n",
      "6   79.154286  0.231429    0.211429   0.251429  98.746384\n",
      "7   85.988571  0.434286    0.371429   0.497143  95.785545\n",
      "8   91.165714  0.788571    0.577143   1.000000  87.176743\n",
      "9   96.474286  2.042857    1.582857   2.502857  44.250427\n",
      "10  97.914286  4.162857    3.331429   4.994286  17.002283\n",
      "11  98.737143  6.500000    5.502857   7.497143   8.114186\n",
      "12  99.165714  8.897143    7.788571  10.005714   4.282937\n"
     ]
    }
   ],
   "source": [
    "from CMS_Deep_Learning.postprocessing.metrics import get_roc_points\n",
    "import pandas as pd\n",
    "class_labels = {0:'QCD',1:r'$t\\bar{t}$', 2:\"W+jets\"}\n",
    "fix_tprs = []\n",
    "fix_fprs = []\n",
    "\n",
    "GRU_ROC_points = get_roc_points(\n",
    "                    Y=GRU_targets,\n",
    "                    predictions=GRU_predictions,\n",
    "                    class_labels=class_labels,\n",
    "                    true_class_index=1,\n",
    "                    tpr=fix_tprs,\n",
    "                    fpr=fix_fprs,\n",
    "                    class_fprs = {0: [.0001,.00025,.0005,.001, .0015,.002, .0025,.005,.01,.025,.05,.075,.1]})\n",
    "GRU_ROC_points = pd.DataFrame(GRU_ROC_points, columns=['tpr','fpr','fpr:W+jets','fpr:QCD', 'thresh'])\n",
    "GRU_ROC_points.to_hdf(\"GRU_ROC_points.h5\",\"ROC_Points\")\n",
    "\n",
    "print(\"GRU: TPRS and FPRS in percents(%)\")\n",
    "print(100*GRU_ROC_points)\n",
    "\n",
    "\n",
    "LSTM_ROC_points = get_roc_points(\n",
    "                    Y=LSTM_targets,\n",
    "                    predictions=LSTM_predictions,\n",
    "                    class_labels=class_labels,\n",
    "                    true_class_index=1,\n",
    "                    tpr=fix_tprs,\n",
    "                    fpr=fix_fprs,\n",
    "                    class_fprs = {0: [.0001,.00025,.0005,.001, .0015,.002, .0025,.005,.01,.025,.05,.075,.1]})\n",
    "LSTM_ROC_points = pd.DataFrame(GRU_ROC_points, columns=['tpr','fpr','fpr:W+jets','fpr:QCD', 'thresh'])\n",
    "LSTM_ROC_points.to_hdf(\"LSTM_ROC_points.h5\",\"ROC_Points\")\n",
    "\n",
    "print(\"\\n\\n\")\n",
    "print(\"LSTM: TPRS and FPRS in percents(%)\")\n",
    "print(100*LSTM_ROC_points)\n",
    "\n"
   ]
  },
  {
   "cell_type": "code",
   "execution_count": null,
   "metadata": {},
   "outputs": [],
   "source": []
  }
 ],
 "metadata": {
  "kernelspec": {
   "display_name": "Python 2",
   "language": "python",
   "name": "python2"
  },
  "language_info": {
   "codemirror_mode": {
    "name": "ipython",
    "version": 2
   },
   "file_extension": ".py",
   "mimetype": "text/x-python",
   "name": "python",
   "nbconvert_exporter": "python",
   "pygments_lexer": "ipython2",
   "version": "2.7.12"
  }
 },
 "nbformat": 4,
 "nbformat_minor": 2
}
