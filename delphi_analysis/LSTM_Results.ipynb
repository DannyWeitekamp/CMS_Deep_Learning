{
 "cells": [
  {
   "cell_type": "code",
   "execution_count": 15,
   "metadata": {
    "collapsed": false
   },
   "outputs": [],
   "source": [
    "%matplotlib inline\n",
    "if __package__ is None:\n",
    "    import sys, os\n",
    "    sys.path.append(os.path.realpath(\"/data/shared/Software/\"))\n",
    "from CMS_SURF_2016.utils.archiving import *\n",
    "from CMS_SURF_2016.layers.slice import Slice\n",
    "from CMS_SURF_2016.layers.lorentz import Lorentz\n",
    "from keras.utils.visualize_util import plot\n",
    "from IPython.display import Image, display\n",
    "from CMS_SURF_2016.utils.colors import colors_contrasting\n",
    "from CMS_SURF_2016.utils.analysistools import *\n",
    "from CMS_SURF_2016.utils.plot import *\n",
    "from CMS_SURF_2016.utils.metrics import *\n",
    "import numpy as np\n",
    "from CMS_SURF_2016.utils.plot import plot_history, print_accuracy_m\n",
    "archive_dir = \"/data/shared/Delphes/keras_archive/\"\n",
    "\n",
    "#def sortTrialsOn(lst):\n",
    "    "
   ]
  },
  {
   "cell_type": "code",
   "execution_count": 16,
   "metadata": {
    "collapsed": false,
    "scrolled": false
   },
   "outputs": [
    {
     "name": "stdout",
     "output_type": "stream",
     "text": [
      "--------------------------------------------------\n",
      "TRIAL SUMMARY (1d645dbd33ca1a4ec695e8cc49d4a4b6f848efda)\n",
      "    Record_Info:\n",
      "        name = [u'LSTM'], elapse_time = 4:14:32\n",
      "        val_acc = 0.7873\n",
      "        num_train = 150000\n",
      "        activation = tanh, depth = 1, dropout = 0.0, labels = [u'qcd', u'ttbar'], lstm_dropout = 0.0, num_val = 150000, output_activation = softmax, patience = 8, query = None, sort_on = Eta, useObjTypeColumn = True\n",
      "--------------------------------------------------\n",
      "--------------------------------------------------\n",
      "TRIAL SUMMARY (0131079e4a5cbf5fba3ddcfbf3182f8e10c4fb17)\n",
      "    Record_Info:\n",
      "        name = [u'LSTM'], elapse_time = 6:41:01\n",
      "        val_acc = 0.8388\n",
      "        num_train = 225000\n",
      "        activation = tanh, depth = 1, dropout = 0.0, labels = [u'ttbar', u'wjet', u'qcd'], lstm_dropout = 0.0, num_val = 225000, output_activation = softmax, patience = 8, query = None, sort_on = Eta, useObjTypeColumn = True\n",
      "--------------------------------------------------\n",
      "--------------------------------------------------\n",
      "TRIAL SUMMARY (34d360fa4fc175ce772dd0c5a8eeb2fa94ad2a09)\n",
      "    Record_Info:\n",
      "        name = [u'LSTM'], elapse_time = 4:10:18\n",
      "        val_acc = 0.7734\n",
      "        num_train = 150000\n",
      "        activation = tanh, depth = 1, dropout = 0.0, labels = [u'qcd', u'ttbar'], lstm_dropout = 0.0, num_val = 150000, output_activation = softmax, patience = 8, query = None, sort_on = PT_ET, useObjTypeColumn = True\n",
      "--------------------------------------------------\n",
      "--------------------------------------------------\n",
      "TRIAL SUMMARY (4072f34609af26d52ec9b7602ce1746bdf3b6db5)\n",
      "    Record_Info:\n",
      "        name = [u'LSTM'], elapse_time = 6:26:29\n",
      "        val_acc = 0.8317\n",
      "        num_train = 225000\n",
      "        activation = tanh, depth = 1, dropout = 0.0, labels = [u'ttbar', u'wjet', u'qcd'], lstm_dropout = 0.0, num_val = 225000, output_activation = softmax, patience = 8, query = None, sort_on = Phi, useObjTypeColumn = True\n",
      "--------------------------------------------------\n",
      "--------------------------------------------------\n",
      "TRIAL SUMMARY (bb89ffd567fd226588695fdccea5898e6d6a866e)\n",
      "    Record_Info:\n",
      "        name = [u'LSTM'], elapse_time = 6:41:05\n",
      "        val_acc = 0.8263\n",
      "        num_train = 225000\n",
      "        activation = tanh, depth = 1, dropout = 0.0, labels = [u'ttbar', u'wjet', u'qcd'], lstm_dropout = 0.0, num_val = 225000, output_activation = softmax, patience = 8, query = None, sort_on = PT_ET, useObjTypeColumn = True\n",
      "--------------------------------------------------\n",
      "--------------------------------------------------\n",
      "TRIAL SUMMARY (6a2b9a7ef5a847753120bba63ea82f0b06093826)\n",
      "    Record_Info:\n",
      "        name = [u'LSTM'], elapse_time = 4:13:55\n",
      "        val_acc = 0.9796\n",
      "        num_train = 150000\n",
      "        activation = tanh, depth = 1, dropout = 0.0, labels = [u'qcd', u'wjet'], lstm_dropout = 0.0, num_val = 150000, output_activation = softmax, patience = 8, query = None, sort_on = Phi, useObjTypeColumn = True\n",
      "--------------------------------------------------\n",
      "--------------------------------------------------\n",
      "TRIAL SUMMARY (bd5fdd2d0fe7ce45d78ddfa74d3825021dc724e9)\n",
      "    Record_Info:\n",
      "        name = [u'LSTM'], elapse_time = 3:53:40\n",
      "        val_acc = 0.9706\n",
      "        num_train = 150000\n",
      "        activation = tanh, depth = 1, dropout = 0.0, labels = [u'ttbar', u'wjet'], lstm_dropout = 0.0, num_val = 150000, output_activation = softmax, patience = 8, query = None, sort_on = Phi, useObjTypeColumn = True\n",
      "--------------------------------------------------\n",
      "--------------------------------------------------\n",
      "TRIAL SUMMARY (3d345c7fd4672e29e52e82f2aef0705d9fd063f7)\n",
      "    Record_Info:\n",
      "        name = [u'LSTM'], elapse_time = 2:02:18\n",
      "        val_acc = 0.9660\n",
      "        num_train = 150000\n",
      "        activation = tanh, depth = 1, dropout = 0.0, labels = [u'qcd', u'wjet'], lstm_dropout = 0.0, num_val = 150000, output_activation = softmax, patience = 8, query = None, sort_on = PT_ET, useObjTypeColumn = True\n",
      "--------------------------------------------------\n",
      "--------------------------------------------------\n",
      "TRIAL SUMMARY (6555455ea5ba32f164e57c7b4e81fbd4a08c3a42)\n",
      "    Record_Info:\n",
      "        name = [u'LSTM'], elapse_time = 4:12:57\n",
      "        val_acc = 0.6881\n",
      "        num_train = 150000\n",
      "        activation = tanh, depth = 1, dropout = 0.0, labels = [u'qcd', u'ttbar'], lstm_dropout = 0.0, num_val = 150000, output_activation = softmax, patience = 8, query = None, sort_on = Phi, useObjTypeColumn = True\n",
      "--------------------------------------------------\n",
      "--------------------------------------------------\n",
      "TRIAL SUMMARY (b9f4c17020065b45203a9bc6ca3ac7da4553b22a)\n",
      "    Record_Info:\n",
      "        name = [u'LSTM'], elapse_time = 2:34:55\n",
      "        val_acc = 0.9798\n",
      "        num_train = 150000\n",
      "        activation = tanh, depth = 1, dropout = 0.0, labels = [u'qcd', u'wjet'], lstm_dropout = 0.0, num_val = 150000, output_activation = softmax, patience = 8, query = None, sort_on = Eta, useObjTypeColumn = True\n",
      "--------------------------------------------------\n",
      "--------------------------------------------------\n",
      "TRIAL SUMMARY (acef7a8ef2cece71de45291359598bc17e25b922)\n",
      "    Record_Info:\n",
      "        name = [u'LSTM'], elapse_time = 3:41:09\n",
      "        val_acc = 0.9670\n",
      "        num_train = 150000\n",
      "        activation = tanh, depth = 1, dropout = 0.0, labels = [u'ttbar', u'wjet'], lstm_dropout = 0.0, num_val = 150000, output_activation = softmax, patience = 8, query = None, sort_on = Eta, useObjTypeColumn = True\n",
      "--------------------------------------------------\n",
      "--------------------------------------------------\n",
      "TRIAL SUMMARY (f6d0572b3f72fbd228eb0b13a44f6499cf5c4101)\n",
      "    Record_Info:\n",
      "        name = [u'LSTM'], elapse_time = 4:51:13\n",
      "        val_acc = 0.9626\n",
      "        num_train = 150000\n",
      "        activation = tanh, depth = 1, dropout = 0.0, labels = [u'ttbar', u'wjet'], lstm_dropout = 0.0, num_val = 150000, output_activation = softmax, patience = 8, query = None, sort_on = PT_ET, useObjTypeColumn = True\n",
      "--------------------------------------------------\n",
      "--------------------------------------------------\n",
      "TRIAL SUMMARY (381915c32564add6ccfdebf7d3ca6a4d6d8efae6)\n",
      "    Record_Info:\n",
      "        name = [u'trial', u'LSTM'], elapse_time = 4:09:56, fit_cycles = 1\n",
      "        val_acc = 0.7833\n",
      "        num_train = 225000, num_validation = 60000\n",
      "        Non_MPI = True, activation = tanh, depth = 1, dropout = 0.0, labels = [u'ttbar', u'wjet', u'qcd'], lstm_dropout = 0.0, output_activation = softmax, patience = 8, query = None, sort_on = Phi, useObjTypeColumn = True, val_acc_ = 0.783292921926, val_acc_error = 0.00166886233478\n",
      "--------------------------------------------------\n",
      "('TotalNumber of Trials:', 13)\n"
     ]
    }
   ],
   "source": [
    "trials = get_trials_by_name(\"LSTM\", archive_dir)\n",
    "#trials = findWithMetrics(trials, {\"useObjTypeColumn\" : True})\n",
    "trials = [t for t in trials if t.is_complete()]\n",
    "for trial in trials:\n",
    "    trial.summary(showTraining=False,showValidation=False, showFit=False, showCompilation=False)\n",
    "print(\"TotalNumber of Trials:\", len(trials)) "
   ]
  },
  {
   "cell_type": "code",
   "execution_count": null,
   "metadata": {
    "collapsed": false,
    "scrolled": true
   },
   "outputs": [],
   "source": [
    "trials = findWithMetrics(trials, {\"useObjTypeColumn\" : True})\n",
    "print_by_labels(trials, 4)\n",
    "\n",
    "#plot_history([(\"Fully connected:\", trials[0].get_history())], plotLoss=False)\n"
   ]
  },
  {
   "cell_type": "code",
   "execution_count": null,
   "metadata": {
    "collapsed": false
   },
   "outputs": [],
   "source": [
    "t = findWithMetrics(trials, {\"labels\" : [u'ttbar', u'wjet', u'qcd'], 'sort_on' : \"Phi\"})\n",
    "t[0].summary(showCompilation=True, showFit=True)"
   ]
  },
  {
   "cell_type": "code",
   "execution_count": null,
   "metadata": {
    "collapsed": false,
    "scrolled": true
   },
   "outputs": [],
   "source": [
    "plotEverything(trials)\n",
    "    \n",
    "    \n"
   ]
  },
  {
   "cell_type": "code",
   "execution_count": null,
   "metadata": {
    "collapsed": false
   },
   "outputs": [],
   "source": [
    "phi = findWithMetrics(trials,{\"sort_on\" : \"Phi\"})\n",
    "eta = findWithMetrics(trials,{\"sort_on\" : \"Eta\"})\n",
    "PT = findWithMetrics(trials,{\"sort_on\" : \"PT_ET\"})\n",
    "sortOnMetric(phi, \"labels\")\n",
    "sortOnMetric(eta, \"labels\")\n",
    "sortOnMetric(PT, \"labels\")\n",
    "labelGroups = zip(phi,eta,PT)"
   ]
  },
  {
   "cell_type": "code",
   "execution_count": null,
   "metadata": {
    "collapsed": false,
    "scrolled": false
   },
   "outputs": [],
   "source": [
    "colors = [(0,0,1.0),(.25,.75,.25), (1,.65,0)]\n",
    "names = [\"Phi\", \"Eta\",\"PT\"]\n",
    "lims = [[.7,.91], [.8,1.0],  [.8,1.0],  [.4,.82]]\n",
    "for j , tup in enumerate(labelGroups):\n",
    "    plots = []\n",
    "    for i, b in enumerate(tup):\n",
    "        labels = b.get_from_record(\"labels\")\n",
    "        if(labels == None): labels = b.get_from_record(\"lables\")\n",
    "        title = str(tuple([str(x) for x in labels])) if(labels != None) else \"Cannot Find Labels\"\n",
    "        title = title + \" Accuracy vs Epoch\"\n",
    "        name = names[i]\n",
    "        model = b.get_model(custom_objects={\"Slice\":Slice, \"Lorentz\" : Lorentz})\n",
    "        history = b.get_history()\n",
    "        color = colors[i]\n",
    "        plots.append((name, history, color))\n",
    "    plot_history(plots, plotLoss=False, title=title, acclims=lims[j])\n",
    "    \n",
    "    "
   ]
  },
  {
   "cell_type": "code",
   "execution_count": null,
   "metadata": {
    "collapsed": false,
    "scrolled": true
   },
   "outputs": [],
   "source": [
    "data = np.zeros(( len(labelGroups[0]),len(labelGroups) ) ).tolist()\n",
    "print(data)\n",
    "columns = [None] * len(labelGroups)\n",
    "rows = [\" \"+ n + \" \" for n in names]\n",
    "\n",
    "for j , tup in enumerate(labelGroups):\n",
    "    for i, b in enumerate(tup):\n",
    "        labels = b.get_from_record(\"labels\")\n",
    "        columns[j] = str(tuple([str(x) for x in labels]))\n",
    "        error = getError(b,custom_objects={\"Slice\":Slice, \"Lorentz\" : Lorentz}, ignoreAssert=True)\n",
    "        d = \"%.5f %s %.5f\" % (b.get_from_record(\"val_acc\"),unichr(177), error)\n",
    "        data[i][j] = d\n",
    "        \n",
    "        \n",
    "#print(data)\n",
    "        "
   ]
  },
  {
   "cell_type": "code",
   "execution_count": null,
   "metadata": {
    "collapsed": false
   },
   "outputs": [],
   "source": [
    "plotTable(rows, columns, data,scale=2, title=\"Validation Accuracy for LSTM Trials by Classification and Sorting\")"
   ]
  },
  {
   "cell_type": "code",
   "execution_count": null,
   "metadata": {
    "collapsed": false,
    "scrolled": true
   },
   "outputs": [],
   "source": [
    "def getTrialBins(trial, bins=20):\n",
    "    trial.summary()\n",
    "    d = accVsEventChar(trial, None, np.sum, \"PT_ET\", [\"EFlowPhoton\",\"EFlowNeutralHadron\",\"EFlowTrack\"],\n",
    "                       bins=bins,custom_objects={\"Slice\": Slice, \"Lorentz\": Lorentz},equalBins=False)\n",
    "    #plotBins(d,title='Accuracy vs Sum of PF Candidate PT', xlabel=\"PT GeV\", ylabel='Accuracy', color=(0.553,0.188,0.38))\n",
    "    return d\n",
    "eta_bins = [getTrialBins(t,40) for t in eta]\n",
    "phi_bins = [getTrialBins(t,40) for t in phi]"
   ]
  },
  {
   "cell_type": "code",
   "execution_count": null,
   "metadata": {
    "collapsed": true
   },
   "outputs": [],
   "source": []
  },
  {
   "cell_type": "code",
   "execution_count": null,
   "metadata": {
    "collapsed": false
   },
   "outputs": [],
   "source": [
    "colors = [(0,0,1.0),(.25,.75,.25), (1,0,0), (1,.65,0)]\n",
    "lables = [trial.get_from_record(\"labels\") for trial in eta]\n",
    "plotBins(eta_bins,mode=\"scatter\",title='Eta-LSTM: Accuracy vs Sum of PF Candidate PT',binLabels=lables, xlabel=\"PT GeV\", ylabel='Accuracy',\n",
    "         legendTitle=\"Classification\",colors=colors, alpha=.2, ylim=(0.75, 1.025), xlim=(0,3000))\n",
    "\n",
    "lables = [trial.get_from_record(\"labels\") for trial in phi]\n",
    "plotBins(phi_bins,mode=\"scatter\",title='Phi-LSTM: Accuracy vs Sum of PF Candidate PT',binLabels=lables, xlabel=\"PT GeV\", ylabel='Accuracy',\n",
    "         legendTitle=\"Classification\",legendBelow=True,colors=colors, alpha=.4, ylim=(0.75, 1.025), xlim=(0,3000))"
   ]
  },
  {
   "cell_type": "code",
   "execution_count": null,
   "metadata": {
    "collapsed": true
   },
   "outputs": [],
   "source": []
  }
 ],
 "metadata": {
  "kernelspec": {
   "display_name": "Python 2",
   "language": "python",
   "name": "python2"
  },
  "language_info": {
   "codemirror_mode": {
    "name": "ipython",
    "version": 2
   },
   "file_extension": ".py",
   "mimetype": "text/x-python",
   "name": "python",
   "nbconvert_exporter": "python",
   "pygments_lexer": "ipython2",
   "version": "2.7.9"
  }
 },
 "nbformat": 4,
 "nbformat_minor": 0
}
