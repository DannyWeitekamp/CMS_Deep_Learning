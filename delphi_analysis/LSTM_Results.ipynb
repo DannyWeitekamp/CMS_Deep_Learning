{
 "cells": [
  {
   "cell_type": "code",
   "execution_count": 1,
   "metadata": {
    "collapsed": false
   },
   "outputs": [
    {
     "name": "stderr",
     "output_type": "stream",
     "text": [
      "Using Theano backend.\n",
      "Using gpu device 1: GeForce GTX TITAN X (CNMeM is disabled, cuDNN 5005)"
     ]
    },
    {
     "name": "stdout",
     "output_type": "stream",
     "text": [
      "Couldn't import dot_parser, loading of dot files will not be possible.\n"
     ]
    },
    {
     "name": "stderr",
     "output_type": "stream",
     "text": [
      "\n"
     ]
    }
   ],
   "source": [
    "%matplotlib inline\n",
    "if __package__ is None:\n",
    "    import sys, os\n",
    "    sys.path.append(os.path.realpath(\"/data/shared/Software/\"))\n",
    "from CMS_Deep_Learning.utils.archiving import *\n",
    "from CMS_Deep_Learning.layers.slice import Slice\n",
    "from CMS_Deep_Learning.layers.lorentz import Lorentz\n",
    "from keras.utils.visualize_util import plot\n",
    "from IPython.display import Image, display\n",
    "from CMS_Deep_Learning.utils.colors import colors_contrasting\n",
    "from CMS_Deep_Learning.utils.analysistools import *\n",
    "from CMS_Deep_Learning.utils.plot import *\n",
    "from CMS_Deep_Learning.utils.metrics import *\n",
    "import numpy as np\n",
    "from CMS_Deep_Learning.utils.plot import plot_history, print_accuracy_m\n",
    "archive_dir = \"/data/shared/Delphes/keras_archive/\"\n",
    "\n",
    "#def sortTrialsOn(lst):\n",
    "    "
   ]
  },
  {
   "cell_type": "code",
   "execution_count": 2,
   "metadata": {
    "collapsed": false,
    "scrolled": true
   },
   "outputs": [
    {
     "name": "stdout",
     "output_type": "stream",
     "text": [
      "--------------------------------------------------\n",
      "TRIAL SUMMARY (1d645dbd33ca1a4ec695e8cc49d4a4b6f848efda)\n",
      "    Record_Info:\n",
      "        name = [u'LSTM'], elapse_time = 4:14:32\n",
      "        val_acc = 0.7873\n",
      "        num_train = 150000\n",
      "        activation = tanh, depth = 1, dropout = 0.0, labels = [u'qcd', u'ttbar'], lstm_dropout = 0.0, num_val = 150000, output_activation = softmax, patience = 8, query = None, sort_on = Eta, useObjTypeColumn = True\n",
      "--------------------------------------------------\n",
      "--------------------------------------------------\n",
      "TRIAL SUMMARY (0131079e4a5cbf5fba3ddcfbf3182f8e10c4fb17)\n",
      "    Record_Info:\n",
      "        name = [u'LSTM'], elapse_time = 6:41:01\n",
      "        val_acc = 0.8388\n",
      "        num_train = 225000\n",
      "        activation = tanh, depth = 1, dropout = 0.0, labels = [u'ttbar', u'wjet', u'qcd'], lstm_dropout = 0.0, num_val = 225000, output_activation = softmax, patience = 8, query = None, sort_on = Eta, useObjTypeColumn = True\n",
      "--------------------------------------------------\n",
      "--------------------------------------------------\n",
      "TRIAL SUMMARY (34d360fa4fc175ce772dd0c5a8eeb2fa94ad2a09)\n",
      "    Record_Info:\n",
      "        name = [u'LSTM'], elapse_time = 4:10:18\n",
      "        val_acc = 0.7734\n",
      "        num_train = 150000\n",
      "        activation = tanh, depth = 1, dropout = 0.0, labels = [u'qcd', u'ttbar'], lstm_dropout = 0.0, num_val = 150000, output_activation = softmax, patience = 8, query = None, sort_on = PT_ET, useObjTypeColumn = True\n",
      "--------------------------------------------------\n",
      "--------------------------------------------------\n",
      "TRIAL SUMMARY (acef7a8ef2cece71de45291359598bc17e25b922)\n",
      "    Record_Info:\n",
      "        name = [u'LSTM'], elapse_time = 3:41:09\n",
      "        val_acc = 0.9670\n",
      "        num_train = 150000\n",
      "        activation = tanh, depth = 1, dropout = 0.0, labels = [u'ttbar', u'wjet'], lstm_dropout = 0.0, num_val = 150000, output_activation = softmax, patience = 8, query = None, sort_on = Eta, useObjTypeColumn = True\n",
      "--------------------------------------------------\n",
      "--------------------------------------------------\n",
      "TRIAL SUMMARY (4072f34609af26d52ec9b7602ce1746bdf3b6db5)\n",
      "    Record_Info:\n",
      "        name = [u'LSTM'], elapse_time = 6:26:29\n",
      "        val_acc = 0.8317\n",
      "        num_train = 225000\n",
      "        activation = tanh, depth = 1, dropout = 0.0, labels = [u'ttbar', u'wjet', u'qcd'], lstm_dropout = 0.0, num_val = 225000, output_activation = softmax, patience = 8, query = None, sort_on = Phi, useObjTypeColumn = True\n",
      "--------------------------------------------------\n",
      "--------------------------------------------------\n",
      "TRIAL SUMMARY (bb89ffd567fd226588695fdccea5898e6d6a866e)\n",
      "    Record_Info:\n",
      "        name = [u'LSTM'], elapse_time = 6:41:05\n",
      "        val_acc = 0.8263\n",
      "        num_train = 225000\n",
      "        activation = tanh, depth = 1, dropout = 0.0, labels = [u'ttbar', u'wjet', u'qcd'], lstm_dropout = 0.0, num_val = 225000, output_activation = softmax, patience = 8, query = None, sort_on = PT_ET, useObjTypeColumn = True\n",
      "--------------------------------------------------\n",
      "--------------------------------------------------\n",
      "TRIAL SUMMARY (6a2b9a7ef5a847753120bba63ea82f0b06093826)\n",
      "    Record_Info:\n",
      "        name = [u'LSTM'], elapse_time = 4:13:55\n",
      "        val_acc = 0.9796\n",
      "        num_train = 150000\n",
      "        activation = tanh, depth = 1, dropout = 0.0, labels = [u'qcd', u'wjet'], lstm_dropout = 0.0, num_val = 150000, output_activation = softmax, patience = 8, query = None, sort_on = Phi, useObjTypeColumn = True\n",
      "--------------------------------------------------\n",
      "--------------------------------------------------\n",
      "TRIAL SUMMARY (bd5fdd2d0fe7ce45d78ddfa74d3825021dc724e9)\n",
      "    Record_Info:\n",
      "        name = [u'LSTM'], elapse_time = 3:53:40\n",
      "        val_acc = 0.9706\n",
      "        num_train = 150000\n",
      "        activation = tanh, depth = 1, dropout = 0.0, labels = [u'ttbar', u'wjet'], lstm_dropout = 0.0, num_val = 150000, output_activation = softmax, patience = 8, query = None, sort_on = Phi, useObjTypeColumn = True\n",
      "--------------------------------------------------\n",
      "--------------------------------------------------\n",
      "TRIAL SUMMARY (3d345c7fd4672e29e52e82f2aef0705d9fd063f7)\n",
      "    Record_Info:\n",
      "        name = [u'LSTM'], elapse_time = 2:02:18\n",
      "        val_acc = 0.9660\n",
      "        num_train = 150000\n",
      "        activation = tanh, depth = 1, dropout = 0.0, labels = [u'qcd', u'wjet'], lstm_dropout = 0.0, num_val = 150000, output_activation = softmax, patience = 8, query = None, sort_on = PT_ET, useObjTypeColumn = True\n",
      "--------------------------------------------------\n",
      "--------------------------------------------------\n",
      "TRIAL SUMMARY (6555455ea5ba32f164e57c7b4e81fbd4a08c3a42)\n",
      "    Record_Info:\n",
      "        name = [u'LSTM'], elapse_time = 4:12:57\n",
      "        val_acc = 0.6881\n",
      "        num_train = 150000\n",
      "        activation = tanh, depth = 1, dropout = 0.0, labels = [u'qcd', u'ttbar'], lstm_dropout = 0.0, num_val = 150000, output_activation = softmax, patience = 8, query = None, sort_on = Phi, useObjTypeColumn = True\n",
      "--------------------------------------------------\n",
      "--------------------------------------------------\n",
      "TRIAL SUMMARY (b9f4c17020065b45203a9bc6ca3ac7da4553b22a)\n",
      "    Record_Info:\n",
      "        name = [u'LSTM'], elapse_time = 2:34:55\n",
      "        val_acc = 0.9798\n",
      "        num_train = 150000\n",
      "        activation = tanh, depth = 1, dropout = 0.0, labels = [u'qcd', u'wjet'], lstm_dropout = 0.0, num_val = 150000, output_activation = softmax, patience = 8, query = None, sort_on = Eta, useObjTypeColumn = True\n",
      "--------------------------------------------------\n",
      "--------------------------------------------------\n",
      "TRIAL SUMMARY (f6d0572b3f72fbd228eb0b13a44f6499cf5c4101)\n",
      "    Record_Info:\n",
      "        name = [u'LSTM'], elapse_time = 4:51:13\n",
      "        val_acc = 0.9626\n",
      "        num_train = 150000\n",
      "        activation = tanh, depth = 1, dropout = 0.0, labels = [u'ttbar', u'wjet'], lstm_dropout = 0.0, num_val = 150000, output_activation = softmax, patience = 8, query = None, sort_on = PT_ET, useObjTypeColumn = True\n",
      "--------------------------------------------------\n",
      "--------------------------------------------------\n",
      "TRIAL SUMMARY (381915c32564add6ccfdebf7d3ca6a4d6d8efae6)\n",
      "    Record_Info:\n",
      "        name = [u'trial', u'LSTM'], elapse_time = 4:09:56, fit_cycles = 1\n",
      "        val_acc = 0.7833\n",
      "        num_train = 225000, num_validation = 60000\n",
      "        Non_MPI = True, activation = tanh, depth = 1, dropout = 0.0, labels = [u'ttbar', u'wjet', u'qcd'], lstm_dropout = 0.0, output_activation = softmax, patience = 8, query = None, sort_on = Phi, useObjTypeColumn = True, val_acc_ = 0.783292921926, val_acc_error = 0.00166886233478\n",
      "--------------------------------------------------\n",
      "('TotalNumber of Trials:', 13)\n"
     ]
    }
   ],
   "source": [
    "trials = get_trials_by_name(\"LSTM\", archive_dir)\n",
    "#trials = findWithMetrics(trials, {\"useObjTypeColumn\" : True})\n",
    "trials = [t for t in trials if t.is_complete()]\n",
    "for trial in trials:\n",
    "    trial.summary(showTraining=False,showValidation=False, showFit=False, showCompilation=False)\n",
    "print(\"TotalNumber of Trials:\", len(trials)) "
   ]
  },
  {
   "cell_type": "code",
   "execution_count": 3,
   "metadata": {
    "collapsed": true
   },
   "outputs": [],
   "source": []
  },
  {
   "cell_type": "code",
   "execution_count": 5,
   "metadata": {
    "collapsed": false
   },
   "outputs": [
    {
     "name": "stdout",
     "output_type": "stream",
     "text": [
      "DataProcedure results '3d5a9733451c92cb0218483c196cbfdddbfef850' read from archive\n",
      "DataProcedure results '3d5a9733451c92cb0218483c196cbfdddbfef850' read from archive\n",
      "(6656, <function accum at 0x7fe0c66cb320>)\n",
      "DataProcedure results 'b0d2e70c8ce8da5b7f3d72e0b13c5903d31d9a6e' read from archive\n",
      "(13312, <function accum at 0x7fe0c66cb320>)\n",
      "DataProcedure results 'd98f680cc56e031aa5628ea06fed897114da8d63' read from archive\n",
      "(19968, <function accum at 0x7fe0c66cb320>)\n",
      "DataProcedure results '8b7e1b8f2adb522fcfd7db093e177e1ad338b10f' read from archive\n",
      "(26624, <function accum at 0x7fe0c66cb320>)\n",
      "DataProcedure results 'c25499a8cc215657bdc064ea5fabaed38bde0dda' read from archive\n",
      "(33280, <function accum at 0x7fe0c66cb320>)\n",
      "DataProcedure results '50dbc7e3c8e46540591888eba93c498dda9a898e' read from archive\n",
      "(39936, <function accum at 0x7fe0c66cb320>)\n",
      "DataProcedure results '683fd2e2366d79a0123701dd2182f00137a2e227' read from archive\n",
      "(40000, <function accum at 0x7fe0c66cb320>)\n"
     ]
    },
    {
     "name": "stderr",
     "output_type": "stream",
     "text": [
      "/usr/lib/python2.7/dist-packages/matplotlib/axes/_axes.py:476: UserWarning: No labelled objects found. Use label='...' kwarg on individual plots.\n",
      "  warnings.warn(\"No labelled objects found. \"\n"
     ]
    },
    {
     "ename": "AttributeError",
     "evalue": "'NoneType' object has no attribute 'get_title'",
     "output_type": "error",
     "traceback": [
      "\u001b[1;31m---------------------------------------------------------------------------\u001b[0m",
      "\u001b[1;31mAttributeError\u001b[0m                            Traceback (most recent call last)",
      "\u001b[1;32m<ipython-input-5-0e7f22bd0318>\u001b[0m in \u001b[0;36m<module>\u001b[1;34m()\u001b[0m\n\u001b[0;32m    112\u001b[0m d2 = accVsEventChar2(trial, None, np.sum, \"PT_ET\", objects=[\"EFlowPhoton\",\"EFlowNeutralHadron\",\"EFlowTrack\"],\n\u001b[0;32m    113\u001b[0m                        \u001b[0mobservable_ordering\u001b[0m\u001b[1;33m=\u001b[0m\u001b[0mobservable_ordering\u001b[0m\u001b[1;33m,\u001b[0m\u001b[0mobject_ordering\u001b[0m\u001b[1;33m=\u001b[0m\u001b[0mobject_ordering\u001b[0m\u001b[1;33m,\u001b[0m\u001b[1;33m\u001b[0m\u001b[0m\n\u001b[1;32m--> 114\u001b[1;33m                        bins=20,custom_objects={\"Slice\": Slice, \"Lorentz\": Lorentz},equalBins=False, plot=True)\n\u001b[0m\u001b[0;32m    115\u001b[0m \u001b[1;31m#assert set([t for t in d.items()]) == set([t for t in d2.items()])\u001b[0m\u001b[1;33m\u001b[0m\u001b[1;33m\u001b[0m\u001b[0m\n\u001b[0;32m    116\u001b[0m \u001b[1;31m#def plot_ROC(trial):\u001b[0m\u001b[1;33m\u001b[0m\u001b[1;33m\u001b[0m\u001b[0m\n",
      "\u001b[1;32m<ipython-input-5-0e7f22bd0318>\u001b[0m in \u001b[0;36maccVsEventChar2\u001b[1;34m(model, data, char, observ, objects, num_samples, char2, bins, observable_ordering, object_ordering, equalBins, custom_objects, plot)\u001b[0m\n\u001b[0;32m     99\u001b[0m         \u001b[0mout_bins\u001b[0m\u001b[1;33m.\u001b[0m\u001b[0mappend\u001b[0m\u001b[1;33m(\u001b[0m\u001b[0mb\u001b[0m\u001b[1;33m)\u001b[0m\u001b[1;33m\u001b[0m\u001b[0m\n\u001b[0;32m    100\u001b[0m \u001b[1;33m\u001b[0m\u001b[0m\n\u001b[1;32m--> 101\u001b[1;33m     \u001b[1;32mif\u001b[0m\u001b[1;33m(\u001b[0m\u001b[0mplot\u001b[0m\u001b[1;33m)\u001b[0m\u001b[1;33m:\u001b[0m \u001b[0mplotBins\u001b[0m\u001b[1;33m(\u001b[0m\u001b[0mout_bins\u001b[0m\u001b[1;33m)\u001b[0m\u001b[1;33m\u001b[0m\u001b[0m\n\u001b[0m\u001b[0;32m    102\u001b[0m     \u001b[1;32mreturn\u001b[0m \u001b[0mout_bins\u001b[0m\u001b[1;33m\u001b[0m\u001b[0m\n\u001b[0;32m    103\u001b[0m \u001b[0mtrial\u001b[0m \u001b[1;33m=\u001b[0m \u001b[0mtrials\u001b[0m\u001b[1;33m[\u001b[0m\u001b[1;36m0\u001b[0m\u001b[1;33m]\u001b[0m\u001b[1;33m\u001b[0m\u001b[0m\n",
      "\u001b[1;32m/data/shared/Software/CMS_SURF_2016/utils/plot.pyc\u001b[0m in \u001b[0;36mplotBins\u001b[1;34m(bins, min_samples, mode, title, xlabel, ylabel, binLabels, legendTitle, legendBelow, alpha, colors, shapes, xlim, ylim, useGrid)\u001b[0m\n\u001b[0;32m    175\u001b[0m         \u001b[0mlegend\u001b[0m \u001b[1;33m=\u001b[0m \u001b[0max\u001b[0m\u001b[1;33m.\u001b[0m\u001b[0mlegend\u001b[0m\u001b[1;33m(\u001b[0m\u001b[0mtitle\u001b[0m\u001b[1;33m=\u001b[0m\u001b[0mlegendTitle\u001b[0m\u001b[1;33m,\u001b[0m \u001b[0mfontsize\u001b[0m\u001b[1;33m=\u001b[0m\u001b[1;36m12\u001b[0m\u001b[1;33m,\u001b[0m \u001b[0mloc\u001b[0m\u001b[1;33m=\u001b[0m\u001b[1;34m'center left'\u001b[0m\u001b[1;33m,\u001b[0m \u001b[0mbbox_to_anchor\u001b[0m\u001b[1;33m=\u001b[0m\u001b[1;33m(\u001b[0m\u001b[1;36m1\u001b[0m\u001b[1;33m,\u001b[0m \u001b[1;36m0.5\u001b[0m\u001b[1;33m)\u001b[0m\u001b[1;33m)\u001b[0m\u001b[1;33m\u001b[0m\u001b[0m\n\u001b[0;32m    176\u001b[0m \u001b[1;33m\u001b[0m\u001b[0m\n\u001b[1;32m--> 177\u001b[1;33m     \u001b[0mplt\u001b[0m\u001b[1;33m.\u001b[0m\u001b[0msetp\u001b[0m\u001b[1;33m(\u001b[0m\u001b[0mlegend\u001b[0m\u001b[1;33m.\u001b[0m\u001b[0mget_title\u001b[0m\u001b[1;33m(\u001b[0m\u001b[1;33m)\u001b[0m\u001b[1;33m,\u001b[0m\u001b[0mfontsize\u001b[0m\u001b[1;33m=\u001b[0m\u001b[1;36m14\u001b[0m\u001b[1;33m)\u001b[0m\u001b[1;33m\u001b[0m\u001b[0m\n\u001b[0m\u001b[0;32m    178\u001b[0m \u001b[1;33m\u001b[0m\u001b[0m\n\u001b[0;32m    179\u001b[0m     \u001b[0mplt\u001b[0m\u001b[1;33m.\u001b[0m\u001b[0mylim\u001b[0m\u001b[1;33m(\u001b[0m\u001b[0mylim\u001b[0m\u001b[1;33m)\u001b[0m\u001b[1;33m\u001b[0m\u001b[0m\n",
      "\u001b[1;31mAttributeError\u001b[0m: 'NoneType' object has no attribute 'get_title'"
     ]
    },
    {
     "name": "stderr",
     "output_type": "stream",
     "text": [
      "/usr/lib/python2.7/dist-packages/matplotlib/collections.py:571: FutureWarning: elementwise comparison failed; returning scalar instead, but in the future will perform elementwise comparison\n",
      "  if self._edgecolors == str('face'):\n"
     ]
    },
    {
     "data": {
      "image/png": "[encoded data removed]",
      "text/plain": [
       "<matplotlib.figure.Figure at 0x7fe0c66bde90>"
      ]
     },
     "metadata": {},
     "output_type": "display_data"
    }
   ],
   "source": [
    "#import sklearn\n",
    "\n",
    "trial = trials[0]\n",
    "\n",
    "observable_ordering=['E/c', 'Px', 'Py', 'Pz', 'PT_ET','Eta', 'Phi', 'Charge', 'X', 'Y', 'Z', \n",
    "                     'Dxy', 'Ehad', 'Eem', 'MuIso', 'EleIso', 'ChHadIso','NeuHadIso','GammaIso']\n",
    "object_ordering=[\"Electron\", \"MuonTight\", \"MissingET\",\"EFlowPhoton\", \"EFlowNeutralHadron\", \"EFlowTrack\"]\n",
    "\n",
    "#=d = accVsEventChar(trial, None, np.sum, \"PT_ET\", objects=[\"EFlowPhoton\",\"EFlowNeutralHadron\",\"EFlowTrack\"], \n",
    "#                       observable_ordering=observable_ordering,object_ordering=object_ordering,\n",
    "#                       bins=20,custom_objects={\"Slice\": Slice, \"Lorentz\": Lorentz},equalBins=False)\n",
    "d = accVsEventChar(trial, None, np.sum, \"PT_ET\", objects=[\"EFlowPhoton\",\"EFlowNeutralHadron\",\"EFlowTrack\"],\n",
    "                       observable_ordering=observable_ordering,object_ordering=object_ordering,\n",
    "                       bins=20,custom_objects={\"Slice\": Slice, \"Lorentz\": Lorentz},equalBins=False, plot=True)\n",
    "#assert set([t for t in d.items()]) == set([t for t in d2.items()])\n",
    "#def plot_ROC(trial):\n",
    "#    X,Y = \n",
    "#    sklearn.metrics.roc_curve(y_true, y_score, pos_label=None, sample_weight=None, drop_intermediate=True)"
   ]
  },
  {
   "cell_type": "code",
   "execution_count": 4,
   "metadata": {
    "collapsed": false
   },
   "outputs": [
    {
     "name": "stdout",
     "output_type": "stream",
     "text": [
      "DataProcedure results '3d5a9733451c92cb0218483c196cbfdddbfef850' read from archive\n",
      "DataProcedure results '3d5a9733451c92cb0218483c196cbfdddbfef850' read from archive\n",
      "(6656, None)\n",
      "DataProcedure results 'b0d2e70c8ce8da5b7f3d72e0b13c5903d31d9a6e' read from archive\n"
     ]
    },
    {
     "ename": "KeyboardInterrupt",
     "evalue": "",
     "output_type": "error",
     "traceback": [
      "\u001b[1;31m---------------------------------------------------------------------------\u001b[0m",
      "\u001b[1;31mKeyboardInterrupt\u001b[0m                         Traceback (most recent call last)",
      "\u001b[1;32m<ipython-input-4-cd62b42fde26>\u001b[0m in \u001b[0;36m<module>\u001b[1;34m()\u001b[0m\n\u001b[0;32m      2\u001b[0m \u001b[1;33m\u001b[0m\u001b[0m\n\u001b[0;32m      3\u001b[0m \u001b[0mdata_it\u001b[0m \u001b[1;33m=\u001b[0m \u001b[0mTrialIterator\u001b[0m\u001b[1;33m(\u001b[0m\u001b[0mtrial\u001b[0m\u001b[1;33m,\u001b[0m \u001b[0mreturn_prediction\u001b[0m\u001b[1;33m=\u001b[0m\u001b[0mTrue\u001b[0m\u001b[1;33m)\u001b[0m\u001b[1;33m\u001b[0m\u001b[0m\n\u001b[1;32m----> 4\u001b[1;33m \u001b[0mY\u001b[0m\u001b[1;33m,\u001b[0m \u001b[0mpred\u001b[0m\u001b[1;33m=\u001b[0m \u001b[0mdata_it\u001b[0m\u001b[1;33m.\u001b[0m\u001b[0masList\u001b[0m\u001b[1;33m(\u001b[0m\u001b[1;33m)\u001b[0m\u001b[1;33m\u001b[0m\u001b[0m\n\u001b[0m\u001b[0;32m      5\u001b[0m \u001b[1;32mprint\u001b[0m\u001b[1;33m(\u001b[0m\u001b[0mlen\u001b[0m\u001b[1;33m(\u001b[0m\u001b[0mY\u001b[0m\u001b[1;33m[\u001b[0m\u001b[1;36m0\u001b[0m\u001b[1;33m]\u001b[0m\u001b[1;33m)\u001b[0m\u001b[1;33m,\u001b[0m \u001b[0mpred\u001b[0m\u001b[1;33m.\u001b[0m\u001b[0mshape\u001b[0m\u001b[1;33m)\u001b[0m\u001b[1;33m\u001b[0m\u001b[0m\n\u001b[0;32m      6\u001b[0m \u001b[1;31m#print(len(Y[0]))\u001b[0m\u001b[1;33m\u001b[0m\u001b[1;33m\u001b[0m\u001b[0m\n",
      "\u001b[1;32m<ipython-input-3-5dad1f81bcab>\u001b[0m in \u001b[0;36masList\u001b[1;34m(self)\u001b[0m\n\u001b[0;32m     77\u001b[0m             \u001b[1;32mif\u001b[0m\u001b[1;33m(\u001b[0m\u001b[0mself\u001b[0m\u001b[1;33m.\u001b[0m\u001b[0mprediction_model\u001b[0m \u001b[1;33m!=\u001b[0m \u001b[0mNone\u001b[0m\u001b[1;33m)\u001b[0m\u001b[1;33m:\u001b[0m\u001b[1;33m\u001b[0m\u001b[0m\n\u001b[0;32m     78\u001b[0m                 \u001b[1;32mif\u001b[0m\u001b[1;33m(\u001b[0m\u001b[0mpred_out\u001b[0m \u001b[1;33m==\u001b[0m \u001b[0mNone\u001b[0m\u001b[1;33m)\u001b[0m\u001b[1;33m:\u001b[0m\u001b[0mpred_out\u001b[0m \u001b[1;33m=\u001b[0m \u001b[1;33m[\u001b[0m\u001b[0mNone\u001b[0m\u001b[1;33m]\u001b[0m\u001b[1;33m*\u001b[0m\u001b[0mself\u001b[0m\u001b[1;33m.\u001b[0m\u001b[0mgetLength\u001b[0m\u001b[1;33m(\u001b[0m\u001b[1;33m)\u001b[0m\u001b[1;33m\u001b[0m\u001b[0m\n\u001b[1;32m---> 79\u001b[1;33m                 \u001b[0mpred\u001b[0m \u001b[1;33m=\u001b[0m \u001b[0mself\u001b[0m\u001b[1;33m.\u001b[0m\u001b[0mprediction_model\u001b[0m\u001b[1;33m.\u001b[0m\u001b[0mpredict_on_batch\u001b[0m\u001b[1;33m(\u001b[0m\u001b[0mX\u001b[0m\u001b[1;33m)\u001b[0m\u001b[1;33m\u001b[0m\u001b[0m\n\u001b[0m\u001b[0;32m     80\u001b[0m                 \u001b[1;32mfor\u001b[0m \u001b[0mj\u001b[0m \u001b[1;32min\u001b[0m \u001b[0mrange\u001b[0m\u001b[1;33m(\u001b[0m\u001b[0mL\u001b[0m\u001b[1;33m)\u001b[0m\u001b[1;33m:\u001b[0m\u001b[1;33m\u001b[0m\u001b[0m\n\u001b[0;32m     81\u001b[0m                     \u001b[0mpred_out\u001b[0m\u001b[1;33m[\u001b[0m\u001b[0mpos\u001b[0m \u001b[1;33m+\u001b[0m \u001b[0mj\u001b[0m\u001b[1;33m]\u001b[0m \u001b[1;33m=\u001b[0m \u001b[0mpred\u001b[0m\u001b[1;33m[\u001b[0m\u001b[0mj\u001b[0m\u001b[1;33m]\u001b[0m\u001b[1;33m\u001b[0m\u001b[0m\n",
      "\u001b[1;32m/usr/local/lib/python2.7/dist-packages/keras/engine/training.pyc\u001b[0m in \u001b[0;36mpredict_on_batch\u001b[1;34m(self, x)\u001b[0m\n\u001b[0;32m   1272\u001b[0m             \u001b[0mins\u001b[0m \u001b[1;33m=\u001b[0m \u001b[0mx\u001b[0m\u001b[1;33m\u001b[0m\u001b[0m\n\u001b[0;32m   1273\u001b[0m         \u001b[0mself\u001b[0m\u001b[1;33m.\u001b[0m\u001b[0m_make_predict_function\u001b[0m\u001b[1;33m(\u001b[0m\u001b[1;33m)\u001b[0m\u001b[1;33m\u001b[0m\u001b[0m\n\u001b[1;32m-> 1274\u001b[1;33m         \u001b[0moutputs\u001b[0m \u001b[1;33m=\u001b[0m \u001b[0mself\u001b[0m\u001b[1;33m.\u001b[0m\u001b[0mpredict_function\u001b[0m\u001b[1;33m(\u001b[0m\u001b[0mins\u001b[0m\u001b[1;33m)\u001b[0m\u001b[1;33m\u001b[0m\u001b[0m\n\u001b[0m\u001b[0;32m   1275\u001b[0m         \u001b[1;32mif\u001b[0m \u001b[0mlen\u001b[0m\u001b[1;33m(\u001b[0m\u001b[0moutputs\u001b[0m\u001b[1;33m)\u001b[0m \u001b[1;33m==\u001b[0m \u001b[1;36m1\u001b[0m\u001b[1;33m:\u001b[0m\u001b[1;33m\u001b[0m\u001b[0m\n\u001b[0;32m   1276\u001b[0m             \u001b[1;32mreturn\u001b[0m \u001b[0moutputs\u001b[0m\u001b[1;33m[\u001b[0m\u001b[1;36m0\u001b[0m\u001b[1;33m]\u001b[0m\u001b[1;33m\u001b[0m\u001b[0m\n",
      "\u001b[1;32m/usr/local/lib/python2.7/dist-packages/keras/backend/theano_backend.pyc\u001b[0m in \u001b[0;36m__call__\u001b[1;34m(self, inputs)\u001b[0m\n\u001b[0;32m    715\u001b[0m     \u001b[1;32mdef\u001b[0m \u001b[0m__call__\u001b[0m\u001b[1;33m(\u001b[0m\u001b[0mself\u001b[0m\u001b[1;33m,\u001b[0m \u001b[0minputs\u001b[0m\u001b[1;33m)\u001b[0m\u001b[1;33m:\u001b[0m\u001b[1;33m\u001b[0m\u001b[0m\n\u001b[0;32m    716\u001b[0m         \u001b[1;32massert\u001b[0m \u001b[0mtype\u001b[0m\u001b[1;33m(\u001b[0m\u001b[0minputs\u001b[0m\u001b[1;33m)\u001b[0m \u001b[1;32min\u001b[0m \u001b[1;33m{\u001b[0m\u001b[0mlist\u001b[0m\u001b[1;33m,\u001b[0m \u001b[0mtuple\u001b[0m\u001b[1;33m}\u001b[0m\u001b[1;33m\u001b[0m\u001b[0m\n\u001b[1;32m--> 717\u001b[1;33m         \u001b[1;32mreturn\u001b[0m \u001b[0mself\u001b[0m\u001b[1;33m.\u001b[0m\u001b[0mfunction\u001b[0m\u001b[1;33m(\u001b[0m\u001b[1;33m*\u001b[0m\u001b[0minputs\u001b[0m\u001b[1;33m)\u001b[0m\u001b[1;33m\u001b[0m\u001b[0m\n\u001b[0m\u001b[0;32m    718\u001b[0m \u001b[1;33m\u001b[0m\u001b[0m\n\u001b[0;32m    719\u001b[0m \u001b[1;33m\u001b[0m\u001b[0m\n",
      "\u001b[1;32m/usr/local/lib/python2.7/dist-packages/theano/compile/function_module.pyc\u001b[0m in \u001b[0;36m__call__\u001b[1;34m(self, *args, **kwargs)\u001b[0m\n\u001b[0;32m    857\u001b[0m         \u001b[0mt0_fn\u001b[0m \u001b[1;33m=\u001b[0m \u001b[0mtime\u001b[0m\u001b[1;33m.\u001b[0m\u001b[0mtime\u001b[0m\u001b[1;33m(\u001b[0m\u001b[1;33m)\u001b[0m\u001b[1;33m\u001b[0m\u001b[0m\n\u001b[0;32m    858\u001b[0m         \u001b[1;32mtry\u001b[0m\u001b[1;33m:\u001b[0m\u001b[1;33m\u001b[0m\u001b[0m\n\u001b[1;32m--> 859\u001b[1;33m             \u001b[0moutputs\u001b[0m \u001b[1;33m=\u001b[0m \u001b[0mself\u001b[0m\u001b[1;33m.\u001b[0m\u001b[0mfn\u001b[0m\u001b[1;33m(\u001b[0m\u001b[1;33m)\u001b[0m\u001b[1;33m\u001b[0m\u001b[0m\n\u001b[0m\u001b[0;32m    860\u001b[0m         \u001b[1;32mexcept\u001b[0m \u001b[0mException\u001b[0m\u001b[1;33m:\u001b[0m\u001b[1;33m\u001b[0m\u001b[0m\n\u001b[0;32m    861\u001b[0m             \u001b[1;32mif\u001b[0m \u001b[0mhasattr\u001b[0m\u001b[1;33m(\u001b[0m\u001b[0mself\u001b[0m\u001b[1;33m.\u001b[0m\u001b[0mfn\u001b[0m\u001b[1;33m,\u001b[0m \u001b[1;34m'position_of_error'\u001b[0m\u001b[1;33m)\u001b[0m\u001b[1;33m:\u001b[0m\u001b[1;33m\u001b[0m\u001b[0m\n",
      "\u001b[1;32m/usr/local/lib/python2.7/dist-packages/theano/scan_module/scan_op.pyc\u001b[0m in \u001b[0;36mrval\u001b[1;34m(p, i, o, n, allow_gc)\u001b[0m\n\u001b[0;32m    947\u001b[0m         \u001b[0mallow_gc\u001b[0m \u001b[1;33m=\u001b[0m \u001b[0mconfig\u001b[0m\u001b[1;33m.\u001b[0m\u001b[0mallow_gc\u001b[0m \u001b[1;32mand\u001b[0m \u001b[1;32mnot\u001b[0m \u001b[0mself\u001b[0m\u001b[1;33m.\u001b[0m\u001b[0mallow_gc\u001b[0m\u001b[1;33m\u001b[0m\u001b[0m\n\u001b[0;32m    948\u001b[0m \u001b[1;33m\u001b[0m\u001b[0m\n\u001b[1;32m--> 949\u001b[1;33m         def rval(p=p, i=node_input_storage, o=node_output_storage, n=node,\n\u001b[0m\u001b[0;32m    950\u001b[0m                  allow_gc=allow_gc):\n\u001b[0;32m    951\u001b[0m             \u001b[0mr\u001b[0m \u001b[1;33m=\u001b[0m \u001b[0mp\u001b[0m\u001b[1;33m(\u001b[0m\u001b[0mn\u001b[0m\u001b[1;33m,\u001b[0m \u001b[1;33m[\u001b[0m\u001b[0mx\u001b[0m\u001b[1;33m[\u001b[0m\u001b[1;36m0\u001b[0m\u001b[1;33m]\u001b[0m \u001b[1;32mfor\u001b[0m \u001b[0mx\u001b[0m \u001b[1;32min\u001b[0m \u001b[0mi\u001b[0m\u001b[1;33m]\u001b[0m\u001b[1;33m,\u001b[0m \u001b[0mo\u001b[0m\u001b[1;33m)\u001b[0m\u001b[1;33m\u001b[0m\u001b[0m\n",
      "\u001b[1;31mKeyboardInterrupt\u001b[0m: "
     ]
    }
   ],
   "source": [
    "trial = trials[0]\n",
    "\n",
    "data_it = TrialIterator(trial, return_prediction=True)\n",
    "Y, pred= data_it.asList()\n",
    "print(len(Y[0]), pred.shape)\n",
    "#print(len(Y[0]))\n",
    "#print(len(Y[0][0]))\n",
    "\n",
    "#print(data_it.getLength())\n",
    "#print()\n",
    "    \n",
    "#iterateValidation(trial)"
   ]
  },
  {
   "cell_type": "code",
   "execution_count": null,
   "metadata": {
    "collapsed": false,
    "scrolled": true
   },
   "outputs": [],
   "source": [
    "trials = findWithMetrics(trials, {\"useObjTypeColumn\" : True})\n",
    "print_by_labels(trials, 4)\n",
    "\n",
    "#plot_history([(\"Fully connected:\", trials[0].get_history())], plotLoss=False)\n"
   ]
  },
  {
   "cell_type": "code",
   "execution_count": null,
   "metadata": {
    "collapsed": false
   },
   "outputs": [],
   "source": [
    "t = findWithMetrics(trials, {\"labels\" : [u'ttbar', u'wjet', u'qcd'], 'sort_on' : \"Phi\"})\n",
    "t[0].summary(showCompilation=True, showFit=True)"
   ]
  },
  {
   "cell_type": "code",
   "execution_count": null,
   "metadata": {
    "collapsed": false,
    "scrolled": true
   },
   "outputs": [],
   "source": [
    "plotEverything(trials)\n",
    "    \n",
    "    \n"
   ]
  },
  {
   "cell_type": "code",
   "execution_count": null,
   "metadata": {
    "collapsed": false
   },
   "outputs": [],
   "source": [
    "phi = findWithMetrics(trials,{\"sort_on\" : \"Phi\"})\n",
    "eta = findWithMetrics(trials,{\"sort_on\" : \"Eta\"})\n",
    "PT = findWithMetrics(trials,{\"sort_on\" : \"PT_ET\"})\n",
    "sortOnMetric(phi, \"labels\")\n",
    "sortOnMetric(eta, \"labels\")\n",
    "sortOnMetric(PT, \"labels\")\n",
    "labelGroups = zip(phi,eta,PT)"
   ]
  },
  {
   "cell_type": "code",
   "execution_count": null,
   "metadata": {
    "collapsed": false,
    "scrolled": false
   },
   "outputs": [],
   "source": [
    "colors = [(0,0,1.0),(.25,.75,.25), (1,.65,0)]\n",
    "names = [\"Phi\", \"Eta\",\"PT\"]\n",
    "lims = [[.7,.91], [.8,1.0],  [.8,1.0],  [.4,.82]]\n",
    "for j , tup in enumerate(labelGroups):\n",
    "    plots = []\n",
    "    for i, b in enumerate(tup):\n",
    "        labels = b.get_from_record(\"labels\")\n",
    "        if(labels == None): labels = b.get_from_record(\"lables\")\n",
    "        title = str(tuple([str(x) for x in labels])) if(labels != None) else \"Cannot Find Labels\"\n",
    "        title = title + \" Accuracy vs Epoch\"\n",
    "        name = names[i]\n",
    "        model = b.get_model(custom_objects={\"Slice\":Slice, \"Lorentz\" : Lorentz})\n",
    "        history = b.get_history()\n",
    "        color = colors[i]\n",
    "        plots.append((name, history, color))\n",
    "    plot_history(plots, plotLoss=False, title=title, acclims=lims[j])\n",
    "    \n",
    "    "
   ]
  },
  {
   "cell_type": "code",
   "execution_count": null,
   "metadata": {
    "collapsed": false,
    "scrolled": true
   },
   "outputs": [],
   "source": [
    "data = np.zeros(( len(labelGroups[0]),len(labelGroups) ) ).tolist()\n",
    "print(data)\n",
    "columns = [None] * len(labelGroups)\n",
    "rows = [\" \"+ n + \" \" for n in names]\n",
    "\n",
    "for j , tup in enumerate(labelGroups):\n",
    "    for i, b in enumerate(tup):\n",
    "        labels = b.get_from_record(\"labels\")\n",
    "        columns[j] = str(tuple([str(x) for x in labels]))\n",
    "        error = getError(b,custom_objects={\"Slice\":Slice, \"Lorentz\" : Lorentz}, ignoreAssert=True)\n",
    "        d = \"%.5f %s %.5f\" % (b.get_from_record(\"val_acc\"),unichr(177), error)\n",
    "        data[i][j] = d\n",
    "        \n",
    "        \n",
    "#print(data)\n",
    "        "
   ]
  },
  {
   "cell_type": "code",
   "execution_count": null,
   "metadata": {
    "collapsed": false
   },
   "outputs": [],
   "source": [
    "plotTable(rows, columns, data,scale=2, title=\"Validation Accuracy for LSTM Trials by Classification and Sorting\")"
   ]
  },
  {
   "cell_type": "code",
   "execution_count": null,
   "metadata": {
    "collapsed": false,
    "scrolled": true
   },
   "outputs": [],
   "source": [
    "def getTrialBins(trial, bins=20):\n",
    "    trial.summary()\n",
    "    d = accVsEventChar(trial, None, np.sum, \"PT_ET\", [\"EFlowPhoton\",\"EFlowNeutralHadron\",\"EFlowTrack\"],\n",
    "                       bins=bins,custom_objects={\"Slice\": Slice, \"Lorentz\": Lorentz},equalBins=False)\n",
    "    #plotBins(d,title='Accuracy vs Sum of PF Candidate PT', xlabel=\"PT GeV\", ylabel='Accuracy', color=(0.553,0.188,0.38))\n",
    "    return d\n",
    "eta_bins = [getTrialBins(t,40) for t in eta]\n",
    "phi_bins = [getTrialBins(t,40) for t in phi]"
   ]
  },
  {
   "cell_type": "code",
   "execution_count": null,
   "metadata": {
    "collapsed": true
   },
   "outputs": [],
   "source": []
  },
  {
   "cell_type": "code",
   "execution_count": null,
   "metadata": {
    "collapsed": false
   },
   "outputs": [],
   "source": [
    "colors = [(0,0,1.0),(.25,.75,.25), (1,0,0), (1,.65,0)]\n",
    "lables = [trial.get_from_record(\"labels\") for trial in eta]\n",
    "plotBins(eta_bins,mode=\"scatter\",title='Eta-LSTM: Accuracy vs Sum of PF Candidate PT',binLabels=lables, xlabel=\"PT GeV\", ylabel='Accuracy',\n",
    "         legendTitle=\"Classification\",colors=colors, alpha=.2, ylim=(0.75, 1.025), xlim=(0,3000))\n",
    "\n",
    "lables = [trial.get_from_record(\"labels\") for trial in phi]\n",
    "plotBins(phi_bins,mode=\"scatter\",title='Phi-LSTM: Accuracy vs Sum of PF Candidate PT',binLabels=lables, xlabel=\"PT GeV\", ylabel='Accuracy',\n",
    "         legendTitle=\"Classification\",legendBelow=True,colors=colors, alpha=.4, ylim=(0.75, 1.025), xlim=(0,3000))"
   ]
  },
  {
   "cell_type": "code",
   "execution_count": null,
   "metadata": {
    "collapsed": true
   },
   "outputs": [],
   "source": []
  }
 ],
 "metadata": {
  "kernelspec": {
   "display_name": "Python 2",
   "language": "python",
   "name": "python2"
  },
  "language_info": {
   "codemirror_mode": {
    "name": "ipython",
    "version": 2
   },
   "file_extension": ".py",
   "mimetype": "text/x-python",
   "name": "python",
   "nbconvert_exporter": "python",
   "pygments_lexer": "ipython2",
   "version": "2.7.9"
  }
 },
 "nbformat": 4,
 "nbformat_minor": 0
}
