{
 "cells": [
  {
   "cell_type": "code",
   "execution_count": 1,
   "metadata": {
    "collapsed": false
   },
   "outputs": [
    {
     "name": "stderr",
     "output_type": "stream",
     "text": [
      "Using Theano backend.\n",
      "Using gpu device 0: GeForce GTX TITAN X (CNMeM is disabled, cuDNN not available)"
     ]
    },
    {
     "name": "stdout",
     "output_type": "stream",
     "text": [
      "Couldn't import dot_parser, loading of dot files will not be possible.\n",
      "using gpu0\n",
      "using theano\n"
     ]
    },
    {
     "name": "stderr",
     "output_type": "stream",
     "text": [
      "\n"
     ]
    }
   ],
   "source": [
    "#We can go into our root file and see what Trees are availiable\n",
    "%matplotlib inline\n",
    "import sys, os\n",
    "if __package__ is None:\n",
    "    import sys, os\n",
    "    sys.path.append(os.path.realpath(\"/data/shared/Software/\"))\n",
    "    sys.path.append(os.path.realpath(\"../../\"))\n",
    "import numpy as np\n",
    "import pandas as pd\n",
    "import ntpath\n",
    "import glob\n",
    "import deepconfig\n",
    "\n",
    "#from keras.utils.visualize_util import plot\n",
    "#from IPython.display import Image, display\n",
    "\n",
    "from CMS_SURF_2016.utils.preprocessing import *\n",
    "from CMS_SURF_2016.utils.callbacks import OverfitStopping, SmartCheckpoint\n",
    "from CMS_SURF_2016.utils.batch import batchAssertArchived, batchExecuteAndTestTrials\n",
    "from CMS_SURF_2016.utils.archiving import *\n",
    "from CMS_SURF_2016.utils.analysistools import findsubsets\n",
    "from CMS_SURF_2016.layers.lorentz import Lorentz, _lorentz\n",
    "from CMS_SURF_2016.layers.slice import Slice\n",
    "\n",
    "from keras.models import Sequential, Model, model_from_json\n",
    "from keras.layers import Dense, Flatten, Reshape, Activation, Dropout, Convolution2D, merge, Input, Flatten, Lambda, LSTM, Masking\n",
    "from keras.engine.topology import Layer\n",
    "from keras.callbacks import EarlyStopping\n",
    "from keras.utils.visualize_util import plot\n",
    "from keras.layers.advanced_activations import LeakyReLU\n",
    "\n",
    "\n",
    "dc = deepconfig.deepconfig(gpu='gpu0', backend='theano')\n",
    "\n",
    "\n"
   ]
  },
  {
   "cell_type": "code",
   "execution_count": null,
   "metadata": {
    "collapsed": false
   },
   "outputs": [],
   "source": []
  },
  {
   "cell_type": "code",
   "execution_count": null,
   "metadata": {
    "collapsed": false
   },
   "outputs": [],
   "source": [
    "\n",
    "    "
   ]
  },
  {
   "cell_type": "code",
   "execution_count": 2,
   "metadata": {
    "collapsed": true
   },
   "outputs": [],
   "source": [
    "#The observables taken from the table\n",
    "observ_types = ['Entry','E/c', 'Px', 'Py', 'Pz', 'PT_ET','Eta', 'Phi', 'Charge', 'X', 'Y', 'Z',\\\n",
    "                     'Dxy', 'Ehad', 'Eem', 'MuIso', 'EleIso', 'ChHadIso','NeuHadIso','GammaIso']\n",
    "vecsize = len(observ_types)\n",
    "epochs = 60\n",
    "batch_size = 100\n",
    "\n",
    "label_dir_pairs = \\\n",
    "            [   (\"ttbar\", \"/data/shared/Delphes/ttbar_lepFilter_13TeV/pandas_h5/\"),\n",
    "                (\"wjet\", \"/data/shared/Delphes/wjets_lepFilter_13TeV/pandas_h5/\"),\n",
    "                (\"qcd\", \"/data/shared/Delphes/qcd_lepFilter_13TeV/pandas_h5/\")\n",
    "            ]\n"
   ]
  },
  {
   "cell_type": "code",
   "execution_count": 3,
   "metadata": {
    "collapsed": false
   },
   "outputs": [],
   "source": [
    "#Find all the subsets of label_dir_pairs and store them as sorted lists\n",
    "ldpsubsets = [sorted(list(s)) for s in findsubsets(label_dir_pairs)]\n",
    "#Make sure that we do 3-way classification as well\n",
    "ldpsubsets.append(label_dir_pairs)\n"
   ]
  },
  {
   "cell_type": "code",
   "execution_count": 4,
   "metadata": {
    "collapsed": false
   },
   "outputs": [],
   "source": [
    "def genModel(name,out_dim, depth, lstm_activation=\"relu\", lstm_dropout = 0.0, dropout=0.0):\n",
    "    inputs = []\n",
    "    mergelist = []\n",
    "    for i, profile in enumerate(object_profiles):\n",
    "        inp = a = Input(shape=(profile.max_size, vecsize), name=\"input_\"+str(i))\n",
    "        inputs.append(inp)\n",
    "        mergelist.append(a)\n",
    "    a = merge(mergelist,mode='concat',concat_axis=1, name=\"merge\")\n",
    "    for i in range(depth):\n",
    "        a = Masking(mask_value=0.0)(a)\n",
    "        a = LSTM(vecsize,\n",
    "                 input_shape=(None,vecsize),\n",
    "                 dropout_W=lstm_dropout,\n",
    "                 dropout_U=lstm_dropout,\n",
    "                 activation=lstm_activation,\n",
    "                 name = \"lstm_\" +str(i))(a)\n",
    "        if(dropout > 0.0):\n",
    "            a =  Dropout(dropout, name=\"dropout_\"+str(i))(a)\n",
    "    dense_out = Dense(out_dim, activation='sigmoid', name='main_output')(a)\n",
    "    model = Model(input=inputs, output=dense_out, name=name)\n",
    "    return model"
   ]
  },
  {
   "cell_type": "code",
   "execution_count": 5,
   "metadata": {
    "collapsed": false,
    "scrolled": true
   },
   "outputs": [
    {
     "name": "stdout",
     "output_type": "stream",
     "text": [
      "ARCHIVE SUCCESSFUL '41505b25a78e0c25de033f31585a7d3eec19a3a2'\n",
      "ARCHIVE SUCCESSFUL '7213cac2c6a7e7cbdf245e6596da535c39c14599'\n"
     ]
    },
    {
     "ename": "KeyboardInterrupt",
     "evalue": "",
     "output_type": "error",
     "traceback": [
      "\u001b[1;31m---------------------------------------------------------------------------\u001b[0m",
      "\u001b[1;31mKeyboardInterrupt\u001b[0m                         Traceback (most recent call last)",
      "\u001b[1;32m<ipython-input-5-7dcac371fd41>\u001b[0m in \u001b[0;36m<module>\u001b[1;34m()\u001b[0m\n\u001b[0;32m     20\u001b[0m         \u001b[0mdps\u001b[0m\u001b[1;33m,\u001b[0m \u001b[0ml\u001b[0m \u001b[1;33m=\u001b[0m \u001b[0mgetGensDefaultFormat\u001b[0m\u001b[1;33m(\u001b[0m\u001b[0marchive_dir\u001b[0m\u001b[1;33m,\u001b[0m \u001b[1;33m(\u001b[0m\u001b[1;36m75000\u001b[0m\u001b[1;33m,\u001b[0m\u001b[1;36m20000\u001b[0m\u001b[1;33m,\u001b[0m\u001b[1;36m20000\u001b[0m\u001b[1;33m)\u001b[0m\u001b[1;33m,\u001b[0m \u001b[1;36m135000\u001b[0m\u001b[1;33m,\u001b[0m                              \u001b[0mobject_profiles\u001b[0m\u001b[1;33m,\u001b[0m\u001b[0mldp\u001b[0m\u001b[1;33m,\u001b[0m\u001b[0mobserv_types\u001b[0m\u001b[1;33m,\u001b[0m\u001b[0mmegabytes\u001b[0m\u001b[1;33m=\u001b[0m\u001b[1;36m100\u001b[0m\u001b[1;33m,\u001b[0m \u001b[0mverbose\u001b[0m\u001b[1;33m=\u001b[0m\u001b[1;36m0\u001b[0m\u001b[1;33m)\u001b[0m\u001b[1;33m\u001b[0m\u001b[0m\n\u001b[0;32m     21\u001b[0m \u001b[1;33m\u001b[0m\u001b[0m\n\u001b[1;32m---> 22\u001b[1;33m         \u001b[0mdependencies\u001b[0m \u001b[1;33m=\u001b[0m \u001b[0mbatchAssertArchived\u001b[0m\u001b[1;33m(\u001b[0m\u001b[0mdps\u001b[0m\u001b[1;33m)\u001b[0m\u001b[1;33m\u001b[0m\u001b[0m\n\u001b[0m\u001b[0;32m     23\u001b[0m         \u001b[0mtrain\u001b[0m\u001b[1;33m,\u001b[0m \u001b[0mnum_train\u001b[0m \u001b[1;33m=\u001b[0m \u001b[0ml\u001b[0m\u001b[1;33m[\u001b[0m\u001b[1;36m0\u001b[0m\u001b[1;33m]\u001b[0m\u001b[1;33m\u001b[0m\u001b[0m\n\u001b[0;32m     24\u001b[0m         \u001b[0mval\u001b[0m\u001b[1;33m,\u001b[0m   \u001b[0mnum_val\u001b[0m   \u001b[1;33m=\u001b[0m \u001b[0ml\u001b[0m\u001b[1;33m[\u001b[0m\u001b[1;36m1\u001b[0m\u001b[1;33m]\u001b[0m\u001b[1;33m\u001b[0m\u001b[0m\n",
      "\u001b[1;32m/data/shared/Software/CMS_SURF_2016/utils/batch.pyc\u001b[0m in \u001b[0;36mbatchAssertArchived\u001b[1;34m(dps, time_str, repo, dp_out_dir, verbose)\u001b[0m\n\u001b[0;32m     46\u001b[0m     \u001b[1;32melse\u001b[0m\u001b[1;33m:\u001b[0m\u001b[1;33m\u001b[0m\u001b[0m\n\u001b[0;32m     47\u001b[0m         \u001b[1;32mfor\u001b[0m \u001b[0mu\u001b[0m \u001b[1;32min\u001b[0m \u001b[0munarchived\u001b[0m\u001b[1;33m:\u001b[0m\u001b[1;33m\u001b[0m\u001b[0m\n\u001b[1;32m---> 48\u001b[1;33m             \u001b[0mu\u001b[0m\u001b[1;33m.\u001b[0m\u001b[0mgetData\u001b[0m\u001b[1;33m(\u001b[0m\u001b[0marchive\u001b[0m\u001b[1;33m=\u001b[0m\u001b[0mTrue\u001b[0m\u001b[1;33m,\u001b[0m \u001b[0mverbose\u001b[0m\u001b[1;33m=\u001b[0m\u001b[0mverbose\u001b[0m\u001b[1;33m)\u001b[0m\u001b[1;33m\u001b[0m\u001b[0m\n\u001b[0m\u001b[0;32m     49\u001b[0m     \u001b[1;32mreturn\u001b[0m \u001b[0mdependencies\u001b[0m\u001b[1;33m\u001b[0m\u001b[0m\n\u001b[0;32m     50\u001b[0m \u001b[1;33m\u001b[0m\u001b[0m\n",
      "\u001b[1;32m/data/shared/Software/CMS_SURF_2016/utils/archiving.py\u001b[0m in \u001b[0;36mgetData\u001b[1;34m(self, archive, redo, verbose)\u001b[0m\n\u001b[0;32m    268\u001b[0m             \u001b[0mprep_func\u001b[0m \u001b[1;33m=\u001b[0m \u001b[0mself\u001b[0m\u001b[1;33m.\u001b[0m\u001b[0mget_func\u001b[0m\u001b[1;33m(\u001b[0m\u001b[0mself\u001b[0m\u001b[1;33m.\u001b[0m\u001b[0mfunc\u001b[0m\u001b[1;33m,\u001b[0m \u001b[0mself\u001b[0m\u001b[1;33m.\u001b[0m\u001b[0mfunc_module\u001b[0m\u001b[1;33m)\u001b[0m\u001b[1;33m\u001b[0m\u001b[0m\n\u001b[0;32m    269\u001b[0m \u001b[1;33m\u001b[0m\u001b[0m\n\u001b[1;32m--> 270\u001b[1;33m             \u001b[0mout\u001b[0m \u001b[1;33m=\u001b[0m \u001b[0mprep_func\u001b[0m\u001b[1;33m(\u001b[0m\u001b[1;33m*\u001b[0m\u001b[0mself\u001b[0m\u001b[1;33m.\u001b[0m\u001b[0margs\u001b[0m\u001b[1;33m,\u001b[0m \u001b[1;33m**\u001b[0m\u001b[0mself\u001b[0m\u001b[1;33m.\u001b[0m\u001b[0mkargs\u001b[0m\u001b[1;33m)\u001b[0m\u001b[1;33m\u001b[0m\u001b[0m\n\u001b[0m\u001b[0;32m    271\u001b[0m \u001b[1;33m\u001b[0m\u001b[0m\n\u001b[0;32m    272\u001b[0m \u001b[1;33m\u001b[0m\u001b[0m\n",
      "\u001b[1;32m/data/shared/Software/CMS_SURF_2016/utils/preprocessing.pyc\u001b[0m in \u001b[0;36mpreprocessFromPandas_label_dir_pairs\u001b[1;34m(label_dir_pairs, start, samples_per_label, object_profiles, observ_types, verbose)\u001b[0m\n\u001b[0;32m    306\u001b[0m                         \u001b[0mframe\u001b[0m \u001b[1;33m=\u001b[0m \u001b[0mstore\u001b[0m\u001b[1;33m.\u001b[0m\u001b[0mget\u001b[0m\u001b[1;33m(\u001b[0m\u001b[1;34m'/'\u001b[0m\u001b[1;33m+\u001b[0m\u001b[0mkey\u001b[0m\u001b[1;33m)\u001b[0m\u001b[1;33m\u001b[0m\u001b[0m\n\u001b[0;32m    307\u001b[0m                     \u001b[1;32melse\u001b[0m\u001b[1;33m:\u001b[0m\u001b[1;33m\u001b[0m\u001b[0m\n\u001b[1;32m--> 308\u001b[1;33m                         \u001b[0mframe\u001b[0m \u001b[1;33m=\u001b[0m \u001b[0mstore\u001b[0m\u001b[1;33m.\u001b[0m\u001b[0mselect\u001b[0m\u001b[1;33m(\u001b[0m\u001b[1;34m'/'\u001b[0m\u001b[1;33m+\u001b[0m\u001b[0mkey\u001b[0m\u001b[1;33m,\u001b[0m \u001b[0mstart\u001b[0m\u001b[1;33m=\u001b[0m\u001b[0mselect_start\u001b[0m\u001b[1;33m,\u001b[0m \u001b[0mstop\u001b[0m\u001b[1;33m=\u001b[0m\u001b[0mselect_stop\u001b[0m\u001b[1;33m)\u001b[0m\u001b[1;33m\u001b[0m\u001b[0m\n\u001b[0m\u001b[0;32m    309\u001b[0m                 \u001b[1;32melif\u001b[0m\u001b[1;33m(\u001b[0m\u001b[0mstoreType\u001b[0m \u001b[1;33m==\u001b[0m \u001b[1;34m\"msgpack\"\u001b[0m\u001b[1;33m)\u001b[0m\u001b[1;33m:\u001b[0m\u001b[1;33m\u001b[0m\u001b[0m\n\u001b[0;32m    310\u001b[0m                     \u001b[0mframe\u001b[0m \u001b[1;33m=\u001b[0m \u001b[0mframes\u001b[0m\u001b[1;33m[\u001b[0m\u001b[0mkey\u001b[0m\u001b[1;33m]\u001b[0m\u001b[1;33m\u001b[0m\u001b[0m\n",
      "\u001b[1;32m/usr/local/lib/python2.7/dist-packages/pandas/io/pytables.pyc\u001b[0m in \u001b[0;36mselect\u001b[1;34m(self, key, where, start, stop, columns, iterator, chunksize, auto_close, **kwargs)\u001b[0m\n\u001b[0;32m    672\u001b[0m                            auto_close=auto_close)\n\u001b[0;32m    673\u001b[0m \u001b[1;33m\u001b[0m\u001b[0m\n\u001b[1;32m--> 674\u001b[1;33m         \u001b[1;32mreturn\u001b[0m \u001b[0mit\u001b[0m\u001b[1;33m.\u001b[0m\u001b[0mget_result\u001b[0m\u001b[1;33m(\u001b[0m\u001b[1;33m)\u001b[0m\u001b[1;33m\u001b[0m\u001b[0m\n\u001b[0m\u001b[0;32m    675\u001b[0m \u001b[1;33m\u001b[0m\u001b[0m\n\u001b[0;32m    676\u001b[0m     def select_as_coordinates(\n",
      "\u001b[1;32m/usr/local/lib/python2.7/dist-packages/pandas/io/pytables.pyc\u001b[0m in \u001b[0;36mget_result\u001b[1;34m(self, coordinates)\u001b[0m\n\u001b[0;32m   1366\u001b[0m \u001b[1;33m\u001b[0m\u001b[0m\n\u001b[0;32m   1367\u001b[0m         \u001b[1;31m# directly return the result\u001b[0m\u001b[1;33m\u001b[0m\u001b[1;33m\u001b[0m\u001b[0m\n\u001b[1;32m-> 1368\u001b[1;33m         \u001b[0mresults\u001b[0m \u001b[1;33m=\u001b[0m \u001b[0mself\u001b[0m\u001b[1;33m.\u001b[0m\u001b[0mfunc\u001b[0m\u001b[1;33m(\u001b[0m\u001b[0mself\u001b[0m\u001b[1;33m.\u001b[0m\u001b[0mstart\u001b[0m\u001b[1;33m,\u001b[0m \u001b[0mself\u001b[0m\u001b[1;33m.\u001b[0m\u001b[0mstop\u001b[0m\u001b[1;33m,\u001b[0m \u001b[0mwhere\u001b[0m\u001b[1;33m)\u001b[0m\u001b[1;33m\u001b[0m\u001b[0m\n\u001b[0m\u001b[0;32m   1369\u001b[0m         \u001b[0mself\u001b[0m\u001b[1;33m.\u001b[0m\u001b[0mclose\u001b[0m\u001b[1;33m(\u001b[0m\u001b[1;33m)\u001b[0m\u001b[1;33m\u001b[0m\u001b[0m\n\u001b[0;32m   1370\u001b[0m         \u001b[1;32mreturn\u001b[0m \u001b[0mresults\u001b[0m\u001b[1;33m\u001b[0m\u001b[0m\n",
      "\u001b[1;32m/usr/local/lib/python2.7/dist-packages/pandas/io/pytables.pyc\u001b[0m in \u001b[0;36mfunc\u001b[1;34m(_start, _stop, _where)\u001b[0m\n\u001b[0;32m    665\u001b[0m             return s.read(start=_start, stop=_stop,\n\u001b[0;32m    666\u001b[0m                           \u001b[0mwhere\u001b[0m\u001b[1;33m=\u001b[0m\u001b[0m_where\u001b[0m\u001b[1;33m,\u001b[0m\u001b[1;33m\u001b[0m\u001b[0m\n\u001b[1;32m--> 667\u001b[1;33m                           columns=columns, **kwargs)\n\u001b[0m\u001b[0;32m    668\u001b[0m \u001b[1;33m\u001b[0m\u001b[0m\n\u001b[0;32m    669\u001b[0m         \u001b[1;31m# create the iterator\u001b[0m\u001b[1;33m\u001b[0m\u001b[1;33m\u001b[0m\u001b[0m\n",
      "\u001b[1;32m/usr/local/lib/python2.7/dist-packages/pandas/io/pytables.pyc\u001b[0m in \u001b[0;36mread\u001b[1;34m(self, where, columns, **kwargs)\u001b[0m\n\u001b[0;32m   4006\u001b[0m     \u001b[1;32mdef\u001b[0m \u001b[0mread\u001b[0m\u001b[1;33m(\u001b[0m\u001b[0mself\u001b[0m\u001b[1;33m,\u001b[0m \u001b[0mwhere\u001b[0m\u001b[1;33m=\u001b[0m\u001b[0mNone\u001b[0m\u001b[1;33m,\u001b[0m \u001b[0mcolumns\u001b[0m\u001b[1;33m=\u001b[0m\u001b[0mNone\u001b[0m\u001b[1;33m,\u001b[0m \u001b[1;33m**\u001b[0m\u001b[0mkwargs\u001b[0m\u001b[1;33m)\u001b[0m\u001b[1;33m:\u001b[0m\u001b[1;33m\u001b[0m\u001b[0m\n\u001b[0;32m   4007\u001b[0m \u001b[1;33m\u001b[0m\u001b[0m\n\u001b[1;32m-> 4008\u001b[1;33m         \u001b[1;32mif\u001b[0m \u001b[1;32mnot\u001b[0m \u001b[0mself\u001b[0m\u001b[1;33m.\u001b[0m\u001b[0mread_axes\u001b[0m\u001b[1;33m(\u001b[0m\u001b[0mwhere\u001b[0m\u001b[1;33m=\u001b[0m\u001b[0mwhere\u001b[0m\u001b[1;33m,\u001b[0m \u001b[1;33m**\u001b[0m\u001b[0mkwargs\u001b[0m\u001b[1;33m)\u001b[0m\u001b[1;33m:\u001b[0m\u001b[1;33m\u001b[0m\u001b[0m\n\u001b[0m\u001b[0;32m   4009\u001b[0m             \u001b[1;32mreturn\u001b[0m \u001b[0mNone\u001b[0m\u001b[1;33m\u001b[0m\u001b[0m\n\u001b[0;32m   4010\u001b[0m \u001b[1;33m\u001b[0m\u001b[0m\n",
      "\u001b[1;32m/usr/local/lib/python2.7/dist-packages/pandas/io/pytables.pyc\u001b[0m in \u001b[0;36mread_axes\u001b[1;34m(self, where, **kwargs)\u001b[0m\n\u001b[0;32m   3213\u001b[0m         \u001b[1;31m# create the selection\u001b[0m\u001b[1;33m\u001b[0m\u001b[1;33m\u001b[0m\u001b[0m\n\u001b[0;32m   3214\u001b[0m         \u001b[0mself\u001b[0m\u001b[1;33m.\u001b[0m\u001b[0mselection\u001b[0m \u001b[1;33m=\u001b[0m \u001b[0mSelection\u001b[0m\u001b[1;33m(\u001b[0m\u001b[0mself\u001b[0m\u001b[1;33m,\u001b[0m \u001b[0mwhere\u001b[0m\u001b[1;33m=\u001b[0m\u001b[0mwhere\u001b[0m\u001b[1;33m,\u001b[0m \u001b[1;33m**\u001b[0m\u001b[0mkwargs\u001b[0m\u001b[1;33m)\u001b[0m\u001b[1;33m\u001b[0m\u001b[0m\n\u001b[1;32m-> 3215\u001b[1;33m         \u001b[0mvalues\u001b[0m \u001b[1;33m=\u001b[0m \u001b[0mself\u001b[0m\u001b[1;33m.\u001b[0m\u001b[0mselection\u001b[0m\u001b[1;33m.\u001b[0m\u001b[0mselect\u001b[0m\u001b[1;33m(\u001b[0m\u001b[1;33m)\u001b[0m\u001b[1;33m\u001b[0m\u001b[0m\n\u001b[0m\u001b[0;32m   3216\u001b[0m \u001b[1;33m\u001b[0m\u001b[0m\n\u001b[0;32m   3217\u001b[0m         \u001b[1;31m# convert the data\u001b[0m\u001b[1;33m\u001b[0m\u001b[1;33m\u001b[0m\u001b[0m\n",
      "\u001b[1;32m/usr/local/lib/python2.7/dist-packages/pandas/io/pytables.pyc\u001b[0m in \u001b[0;36mselect\u001b[1;34m(self)\u001b[0m\n\u001b[0;32m   4535\u001b[0m         \u001b[1;32melif\u001b[0m \u001b[0mself\u001b[0m\u001b[1;33m.\u001b[0m\u001b[0mcoordinates\u001b[0m \u001b[1;32mis\u001b[0m \u001b[1;32mnot\u001b[0m \u001b[0mNone\u001b[0m\u001b[1;33m:\u001b[0m\u001b[1;33m\u001b[0m\u001b[0m\n\u001b[0;32m   4536\u001b[0m             \u001b[1;32mreturn\u001b[0m \u001b[0mself\u001b[0m\u001b[1;33m.\u001b[0m\u001b[0mtable\u001b[0m\u001b[1;33m.\u001b[0m\u001b[0mtable\u001b[0m\u001b[1;33m.\u001b[0m\u001b[0mread_coordinates\u001b[0m\u001b[1;33m(\u001b[0m\u001b[0mself\u001b[0m\u001b[1;33m.\u001b[0m\u001b[0mcoordinates\u001b[0m\u001b[1;33m)\u001b[0m\u001b[1;33m\u001b[0m\u001b[0m\n\u001b[1;32m-> 4537\u001b[1;33m         \u001b[1;32mreturn\u001b[0m \u001b[0mself\u001b[0m\u001b[1;33m.\u001b[0m\u001b[0mtable\u001b[0m\u001b[1;33m.\u001b[0m\u001b[0mtable\u001b[0m\u001b[1;33m.\u001b[0m\u001b[0mread\u001b[0m\u001b[1;33m(\u001b[0m\u001b[0mstart\u001b[0m\u001b[1;33m=\u001b[0m\u001b[0mself\u001b[0m\u001b[1;33m.\u001b[0m\u001b[0mstart\u001b[0m\u001b[1;33m,\u001b[0m \u001b[0mstop\u001b[0m\u001b[1;33m=\u001b[0m\u001b[0mself\u001b[0m\u001b[1;33m.\u001b[0m\u001b[0mstop\u001b[0m\u001b[1;33m)\u001b[0m\u001b[1;33m\u001b[0m\u001b[0m\n\u001b[0m\u001b[0;32m   4538\u001b[0m \u001b[1;33m\u001b[0m\u001b[0m\n\u001b[0;32m   4539\u001b[0m     \u001b[1;32mdef\u001b[0m \u001b[0mselect_coords\u001b[0m\u001b[1;33m(\u001b[0m\u001b[0mself\u001b[0m\u001b[1;33m)\u001b[0m\u001b[1;33m:\u001b[0m\u001b[1;33m\u001b[0m\u001b[0m\n",
      "\u001b[1;32m/usr/local/lib/python2.7/dist-packages/tables/table.pyc\u001b[0m in \u001b[0;36mread\u001b[1;34m(self, start, stop, step, field, out)\u001b[0m\n\u001b[0;32m   1963\u001b[0m                                                   warn_negstep=False)\n\u001b[0;32m   1964\u001b[0m \u001b[1;33m\u001b[0m\u001b[0m\n\u001b[1;32m-> 1965\u001b[1;33m         \u001b[0marr\u001b[0m \u001b[1;33m=\u001b[0m \u001b[0mself\u001b[0m\u001b[1;33m.\u001b[0m\u001b[0m_read\u001b[0m\u001b[1;33m(\u001b[0m\u001b[0mstart\u001b[0m\u001b[1;33m,\u001b[0m \u001b[0mstop\u001b[0m\u001b[1;33m,\u001b[0m \u001b[0mstep\u001b[0m\u001b[1;33m,\u001b[0m \u001b[0mfield\u001b[0m\u001b[1;33m,\u001b[0m \u001b[0mout\u001b[0m\u001b[1;33m)\u001b[0m\u001b[1;33m\u001b[0m\u001b[0m\n\u001b[0m\u001b[0;32m   1966\u001b[0m         \u001b[1;32mreturn\u001b[0m \u001b[0minternal_to_flavor\u001b[0m\u001b[1;33m(\u001b[0m\u001b[0marr\u001b[0m\u001b[1;33m,\u001b[0m \u001b[0mself\u001b[0m\u001b[1;33m.\u001b[0m\u001b[0mflavor\u001b[0m\u001b[1;33m)\u001b[0m\u001b[1;33m\u001b[0m\u001b[0m\n\u001b[0;32m   1967\u001b[0m \u001b[1;33m\u001b[0m\u001b[0m\n",
      "\u001b[1;32m/usr/local/lib/python2.7/dist-packages/tables/table.pyc\u001b[0m in \u001b[0;36m_read\u001b[1;34m(self, start, stop, step, field, out)\u001b[0m\n\u001b[0;32m   1876\u001b[0m             \u001b[1;31m# This optimization works three times faster than\u001b[0m\u001b[1;33m\u001b[0m\u001b[1;33m\u001b[0m\u001b[0m\n\u001b[0;32m   1877\u001b[0m             \u001b[1;31m# the row._fill_col method (up to 170 MB/s on a pentium IV @ 2GHz)\u001b[0m\u001b[1;33m\u001b[0m\u001b[1;33m\u001b[0m\u001b[0m\n\u001b[1;32m-> 1878\u001b[1;33m             \u001b[0mself\u001b[0m\u001b[1;33m.\u001b[0m\u001b[0m_read_records\u001b[0m\u001b[1;33m(\u001b[0m\u001b[0mstart\u001b[0m\u001b[1;33m,\u001b[0m \u001b[0mstop\u001b[0m \u001b[1;33m-\u001b[0m \u001b[0mstart\u001b[0m\u001b[1;33m,\u001b[0m \u001b[0mresult\u001b[0m\u001b[1;33m)\u001b[0m\u001b[1;33m\u001b[0m\u001b[0m\n\u001b[0m\u001b[0;32m   1879\u001b[0m         \u001b[1;31m# Warning!: _read_field_name should not be used until\u001b[0m\u001b[1;33m\u001b[0m\u001b[1;33m\u001b[0m\u001b[0m\n\u001b[0;32m   1880\u001b[0m         \u001b[1;31m# H5TBread_fields_name in tableextension will be finished\u001b[0m\u001b[1;33m\u001b[0m\u001b[1;33m\u001b[0m\u001b[0m\n",
      "\u001b[1;31mKeyboardInterrupt\u001b[0m: "
     ]
    }
   ],
   "source": [
    "archive_dir = \"/data/shared/Delphes/keras_archive/\"\n",
    "patience = 10\n",
    "earlyStopping = EarlyStopping(verbose=1, patience=patience)\n",
    "trial_tups = []\n",
    "#Loop over all subsets\n",
    "for ldp in ldpsubsets:\n",
    "    labels = [x[0] for x in ldp]\n",
    "    for sort_on in [\"PT_ET\", \"Phi\", \"Eta\"]:\n",
    "        #Use object maxes from Find_Maxes_From Query\n",
    "        object_profiles = [ObjectProfile(\"Electron\",-1),\n",
    "                            ObjectProfile(\"MuonTight\", -1),\n",
    "                            ObjectProfile(\"Photon\", -1),\n",
    "                            ObjectProfile(\"MissingET\", 1),\n",
    "                            ObjectProfile(\"EFlowPhoton\",200, query=\"PT_ET > 1.0\", sort_columns=[sort_on], sort_ascending=False), \n",
    "                            ObjectProfile(\"EFlowNeutralHadron\",370, query=\"PT_ET > 1.0\", sort_columns=[sort_on], sort_ascending=False), \n",
    "                            ObjectProfile(\"EFlowTrack\",420, query=\"PT_ET > 1.0\", sort_columns=[sort_on], sort_ascending=False)] \n",
    "\n",
    "        resolveProfileMaxes(object_profiles, ldp)\n",
    "\n",
    "        dps, l = getGensDefaultFormat(archive_dir, (75000,20000,20000), 135000, \\\n",
    "                             object_profiles,ldp,observ_types,megabytes=100, verbose=0)\n",
    "\n",
    "        dependencies = batchAssertArchived(dps)\n",
    "        train, num_train = l[0]\n",
    "        val,   num_val   = l[1]\n",
    "        test,  num_test  = l[2]\n",
    "        max_q_size = l[3]\n",
    "        print(\"MAXQ: \",max_q_size)\n",
    "\n",
    "       \n",
    "        for name in ['LSTM']:\n",
    "            for depth in [1]:\n",
    "                    for activation in ['tanh']:\n",
    "                        for lstm_dropout in [0.0]:\n",
    "                            for dropout in [0.0]:\n",
    "                                activation_name = activation if isinstance(activation, str) \\\n",
    "                                                    else activation.__name__\n",
    "\n",
    "                                model = genModel(name, len(labels), depth, activation, lstm_dropout, dropout)\n",
    "\n",
    "                                trial = KerasTrial(archive_dir, name=name, model=model)\n",
    "\n",
    "                                trial.setTrain(train_procedure=train,\n",
    "                                               samples_per_epoch=num_train\n",
    "                                              )\n",
    "                                trial.setValidation(val_procedure=val,\n",
    "                                                   nb_val_samples=num_val)\n",
    "                                trial.setCompilation(loss='binary_crossentropy',\n",
    "                                          optimizer='rmsprop',\n",
    "                                          metrics=['accuracy']\n",
    "                                              )\n",
    "\n",
    "                                trial.setFit_Generator( \n",
    "                                                nb_epoch=epochs,\n",
    "                                                callbacks=[earlyStopping],\n",
    "                                                max_q_size = max_q_size)\n",
    "                                trial.write()\n",
    "\n",
    "\n",
    "#                                print(\"EXECUTE: \", name,labels, depth, activation_name)\n",
    "#                                trial.execute(custom_objects={\"Lorentz\":Lorentz,\"Slice\": Slice},\n",
    "#                                             train_arg_decode_func=label_dir_pairs_args_decoder,\n",
    "#                                             val_arg_decode_func=label_dir_pairs_args_decoder)\n",
    "\n",
    "\n",
    "#                                trial.test(test_proc=test,\n",
    "#                                             test_samples=num_test,\n",
    "#                                             custom_objects={\"Lorentz\":Lorentz,\"Slice\": Slice},\n",
    "#                                            arg_decode_func = label_dir_pairs_args_decoder)\n",
    "\n",
    "                                trial_tups.append((trial, test, num_test, dependencies))\n",
    "\n",
    "                                trial.to_record({\"labels\": labels,\n",
    "                                                 \"depth\": depth,\n",
    "                                                 \"sort_on\" : sort_on,\n",
    "                                                 \"activation\": activation_name,\n",
    "                                                 \"dropout\":dropout,\n",
    "                                                 \"lstm_dropout\":lstm_dropout,\n",
    "                                                 \"query\": \"PT_ET > 1.0\",\n",
    "                                                 \"patience\" : patience\n",
    "                                                })\n",
    "for tup in trial_tups:\n",
    "    tup[0].summary()\n",
    "batchExecuteAndTestTrials(trial_tups)\n",
    "                \n",
    "        \n",
    "\n",
    "    "
   ]
  },
  {
   "cell_type": "code",
   "execution_count": null,
   "metadata": {
    "collapsed": true
   },
   "outputs": [],
   "source": []
  }
 ],
 "metadata": {
  "kernelspec": {
   "display_name": "Python 2",
   "language": "python",
   "name": "python2"
  },
  "language_info": {
   "codemirror_mode": {
    "name": "ipython",
    "version": 2
   },
   "file_extension": ".py",
   "mimetype": "text/x-python",
   "name": "python",
   "nbconvert_exporter": "python",
   "pygments_lexer": "ipython2",
   "version": "2.7.9"
  }
 },
 "nbformat": 4,
 "nbformat_minor": 0
}
