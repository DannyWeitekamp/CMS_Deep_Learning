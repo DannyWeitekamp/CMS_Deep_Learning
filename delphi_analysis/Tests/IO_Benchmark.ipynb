{
 "cells": [
  {
   "cell_type": "code",
   "execution_count": 1,
   "metadata": {
    "collapsed": false
   },
   "outputs": [
    {
     "name": "stderr",
     "output_type": "stream",
     "text": [
      "Using Theano backend.\n",
      "Using gpu device 0: GeForce GTX TITAN X (CNMeM is disabled, cuDNN not available)"
     ]
    },
    {
     "name": "stdout",
     "output_type": "stream",
     "text": [
      "Couldn't import dot_parser, loading of dot files will not be possible.\n",
      "using gpu0\n",
      "using theano\n"
     ]
    },
    {
     "name": "stderr",
     "output_type": "stream",
     "text": [
      "\n"
     ]
    }
   ],
   "source": [
    "#We can go into our root file and see what Trees are availiable\n",
    "%matplotlib inline\n",
    "import sys, os\n",
    "if __package__ is None:\n",
    "    import sys, os\n",
    "    sys.path.append(os.path.realpath(\"/data/shared/Software/\"))\n",
    "import numpy as np\n",
    "import pandas as pd\n",
    "import ntpath\n",
    "import glob\n",
    "import deepconfig\n",
    "\n",
    "from keras.utils.visualize_util import plot\n",
    "from IPython.display import Image, display\n",
    "\n",
    "from CMS_Deep_Learning.utils.preprocessing import *\n",
    "from CMS_Deep_Learning.utils.metrics import plot_history, print_accuracy_m\n",
    "from CMS_Deep_Learning.utils.callbacks import OverfitStopping, SmartCheckpoint\n",
    "from CMS_Deep_Learning.utils.archiving import *\n",
    "\n",
    "from keras.models import Sequential, Model\n",
    "from keras.layers import Dense, Flatten, Reshape, Activation, Dropout, Convolution2D, merge, Input, Flatten\n",
    "from keras.callbacks import EarlyStopping\n",
    "\n",
    "#Choose the GPU\n",
    "dc = deepconfig.deepconfig(gpu='gpu0', backend='theano')"
   ]
  },
  {
   "cell_type": "code",
   "execution_count": 2,
   "metadata": {
    "collapsed": true
   },
   "outputs": [],
   "source": [
    "#Set up all of our preprocessing parameters\n",
    "observ_types = ['E/c', 'Px', 'Py', 'Pz', 'Charge', \"PT_ET\", \"Eta\", \"Phi\", \"Dxy_Ehad_Eem\"]\n",
    "vecsize = len(observ_types)\n",
    "sample_start = 0\n",
    "#NOT USING VERY MANY SMAPLES JUST SO ILLUSTRATE\n",
    "num_samples = 1000\n",
    "\n",
    "\n",
    "object_profiles = [ObjectProfile(\"Electron\",5),\n",
    "                    ObjectProfile(\"MuonTight\", 5),\n",
    "                    ObjectProfile(\"Photon\", 25),\n",
    "                    ObjectProfile(\"MissingET\", 1),\n",
    "                    ObjectProfile(\"EFlowPhoton\",1300, sort_columns=[\"PT_ET\"], sort_ascending=False),  #max ~1300\n",
    "                    ObjectProfile(\"EFlowNeutralHadron\",1000, sort_columns=[\"PT_ET\"], sort_ascending=False),  #max ~1000\n",
    "                    ObjectProfile(\"EFlowTrack\",1050, sort_columns=[\"PT_ET\"], sort_ascending=False)]  #max ~1050\n",
    "\n",
    "label_dir_pairs = \\\n",
    "            [   (\"ttbar\", \"/data/shared/Delphes/ttbar_lepFilter_13TeV/pandas_unjoined/\"),\n",
    "                (\"wjet\", \"/data/shared/Delphes/wjets_lepFilter_13TeV/pandas_unjoined/\")#,#\n",
    "#                (\"qcd\", \"/data/shared/Delphes/qcd_lepFilter_13TeV/pandas_unjoined/\")\n",
    "            ]"
   ]
  },
  {
   "cell_type": "code",
   "execution_count": 3,
   "metadata": {
    "collapsed": false,
    "scrolled": false
   },
   "outputs": [
    {
     "name": "stdout",
     "output_type": "stream",
     "text": [
      "Reading 1000 samples from '/data/shared/Delphes/ttbar_lepFilter_13TeV/pandas_unjoined/ttbar_lepFilter_13TeV_0.h5':\n",
      "Mapping 5 Values/Sample from 'Electron'\n",
      "Mapping 5 Values/Sample from 'MuonTight'\n",
      "Mapping 25 Values/Sample from 'Photon'\n",
      "Mapping 1 Values/Sample from 'MissingET'\n",
      "Mapping 1300 Values/Sample from 'EFlowPhoton'\n",
      "Mapping 1000 Values/Sample from 'EFlowNeutralHadron'\n",
      "Mapping 1050 Values/Sample from 'EFlowTrack'\n",
      "*Read 1000 Samples of 1000 in range(0, 1000)\n",
      "--------------------------------------------------\n",
      "Reading 1000 samples from '/data/shared/Delphes/wjets_lepFilter_13TeV/pandas_unjoined/wjets_lepFilter_13TeV_1.h5':\n",
      "Mapping 5 Values/Sample from 'Electron'\n",
      "Mapping 5 Values/Sample from 'MuonTight'\n",
      "Mapping 25 Values/Sample from 'Photon'\n",
      "Mapping 1 Values/Sample from 'MissingET'\n",
      "Mapping 1300 Values/Sample from 'EFlowPhoton'\n",
      "Mapping 1000 Values/Sample from 'EFlowNeutralHadron'\n",
      "Mapping 1050 Values/Sample from 'EFlowTrack'\n",
      "*Read 1000 Samples of 1000 in range(0, 1000)\n",
      "--------------------------------------------------\n",
      "('Preprocess Elapse Time:', 10.589085999999998)\n"
     ]
    }
   ],
   "source": [
    "start = time.clock()\n",
    "X_train, Y_train = preprocessFromPandas_label_dir_pairs(label_dir_pairs,\n",
    "                                                        sample_start,\n",
    "                                                        num_samples,\n",
    "                                                        object_profiles,\n",
    "                                                        observ_types)\n",
    "print(\"Preprocess Elapse Time:\", time.clock()-start)"
   ]
  },
  {
   "cell_type": "code",
   "execution_count": 4,
   "metadata": {
    "collapsed": false
   },
   "outputs": [
    {
     "name": "stdout",
     "output_type": "stream",
     "text": [
      "('to_CSV Elapse Time:', 24.816235)\n"
     ]
    }
   ],
   "source": [
    "start= time.clock()\n",
    "XY_to_CSV(X_train,Y_train, \"TestCSVDir\")\n",
    "print(\"to_CSV Elapse Time:\", time.clock()-start)"
   ]
  },
  {
   "cell_type": "code",
   "execution_count": 5,
   "metadata": {
    "collapsed": false
   },
   "outputs": [
    {
     "name": "stdout",
     "output_type": "stream",
     "text": [
      "('from_CSV Elapse Time', 79.17493999999999)\n"
     ]
    }
   ],
   "source": [
    "start= time.clock()\n",
    "X,Y = XY_from_CSV(\"TestCSVDir\")\n",
    "print(\"from_CSV Elapse Time\", time.clock()-start)"
   ]
  },
  {
   "cell_type": "code",
   "execution_count": 6,
   "metadata": {
    "collapsed": false
   },
   "outputs": [
    {
     "name": "stdout",
     "output_type": "stream",
     "text": [
      "Everything read back correctly\n"
     ]
    }
   ],
   "source": [
    "for x, x_train in zip(X,X_train):\n",
    "    np.testing.assert_array_almost_equal(x,x_train)\n",
    "for y, y_train in zip(Y,[Y_train]):\n",
    "    np.testing.assert_array_almost_equal(y,y_train)\n",
    "print(\"Everything read back correctly\")"
   ]
  },
  {
   "cell_type": "code",
   "execution_count": 7,
   "metadata": {
    "collapsed": false
   },
   "outputs": [
    {
     "name": "stdout",
     "output_type": "stream",
     "text": [
      "('to_pickle Elapse Time:', 0.160775000000001)\n"
     ]
    }
   ],
   "source": [
    "start= time.clock()\n",
    "XY_to_pickle(X_train,Y_train, \"TestPickleDir\")\n",
    "print(\"to_pickle Elapse Time:\", time.clock()-start)"
   ]
  },
  {
   "cell_type": "code",
   "execution_count": 8,
   "metadata": {
    "collapsed": false
   },
   "outputs": [
    {
     "name": "stdout",
     "output_type": "stream",
     "text": [
      "('from_pickle Elapse Time:', 0.8444429999999983)\n"
     ]
    }
   ],
   "source": [
    "start= time.clock()\n",
    "X,Y = XY_from_pickle(\"TestPickleDir\")\n",
    "print(\"from_pickle Elapse Time:\", time.clock()-start)"
   ]
  },
  {
   "cell_type": "code",
   "execution_count": 9,
   "metadata": {
    "collapsed": false
   },
   "outputs": [
    {
     "name": "stdout",
     "output_type": "stream",
     "text": [
      "Everything read back correctly\n"
     ]
    }
   ],
   "source": [
    "for x, x_train in zip(X,X_train):\n",
    "    np.testing.assert_array_almost_equal(x,x_train)\n",
    "for y, y_train in zip(Y,[Y_train]):\n",
    "    np.testing.assert_array_almost_equal(y,y_train)\n",
    "print(\"Everything read back correctly\")"
   ]
  },
  {
   "cell_type": "code",
   "execution_count": null,
   "metadata": {
    "collapsed": true
   },
   "outputs": [],
   "source": [
    ""
   ]
  },
  {
   "cell_type": "code",
   "execution_count": null,
   "metadata": {
    "collapsed": true
   },
   "outputs": [],
   "source": [
    ""
   ]
  }
 ],
 "metadata": {
  "kernelspec": {
   "display_name": "Python 2",
   "language": "python",
   "name": "python2"
  },
  "language_info": {
   "codemirror_mode": {
    "name": "ipython",
    "version": 2.0
   },
   "file_extension": ".py",
   "mimetype": "text/x-python",
   "name": "python",
   "nbconvert_exporter": "python",
   "pygments_lexer": "ipython2",
   "version": "2.7.9"
  }
 },
 "nbformat": 4,
 "nbformat_minor": 0
}